{
 "cells": [
  {
   "cell_type": "code",
   "execution_count": 1,
   "id": "e489253e-cb5b-4c65-a742-c267044cb87d",
   "metadata": {},
   "outputs": [],
   "source": [
    "import json\n",
    "import logging\n",
    "import xml.etree.ElementTree as ET\n",
    "import os\n",
    "import pandas as pd\n",
    "import numpy as np\n",
    "from tqdm import tqdm"
   ]
  },
  {
   "cell_type": "code",
   "execution_count": 2,
   "id": "f8e165ce-46b4-4cb6-b351-e1b57f878309",
   "metadata": {},
   "outputs": [
    {
     "data": {
      "text/plain": [
       "'/home/hazot/code/trec-clinical-trials-2023/data/processed/data.json'"
      ]
     },
     "execution_count": 2,
     "metadata": {},
     "output_type": "execute_result"
    }
   ],
   "source": [
    "filepath = os.path.normpath(os.getcwd() + '/..' + '/data/processed/data.json')\n",
    "filepath"
   ]
  },
  {
   "cell_type": "code",
   "execution_count": 3,
   "id": "eb18923d-4356-4471-8686-994ac13afa4e",
   "metadata": {},
   "outputs": [],
   "source": [
    "df = pd.read_json(filepath)"
   ]
  },
  {
   "cell_type": "code",
   "execution_count": 4,
   "id": "7638a2e4-0c9b-44c2-b96d-17c2df9763a0",
   "metadata": {},
   "outputs": [
    {
     "name": "stdout",
     "output_type": "stream",
     "text": [
      "(451538, 17)\n",
      "Index(['nct_id', 'link_text', 'url', 'id_info', 'brief_title', 'sponsors',\n",
      "       'brief_summary', 'detailed_description', 'primary_purpose',\n",
      "       'intervention', 'eligibility', 'gender', 'minimum_age', 'maximum_age',\n",
      "       'healthy_volunteers', 'keyword', 'condition_browse'],\n",
      "      dtype='object')\n"
     ]
    }
   ],
   "source": [
    "print(df.shape)\n",
    "print(df.columns)"
   ]
  },
  {
   "cell_type": "code",
   "execution_count": 16,
   "id": "9b92e64e-16eb-470f-bbef-8b632979161f",
   "metadata": {},
   "outputs": [
    {
     "name": "stdout",
     "output_type": "stream",
     "text": [
      "Sum of column: 450667\n",
      "gender\n",
      "All       387617\n",
      "Female     43441\n",
      "Male       19609\n",
      "Name: count, dtype: int64\n"
     ]
    }
   ],
   "source": [
    "print(\"Sum of column:\", np.sum(list(df['gender'].value_counts())))\n",
    "print('-----------')\n",
    "print(df['gender'].value_counts())"
   ]
  },
  {
   "cell_type": "code",
   "execution_count": 17,
   "id": "213f2386-d9dd-41ca-ab30-998acb60175b",
   "metadata": {},
   "outputs": [
    {
     "name": "stdout",
     "output_type": "stream",
     "text": [
      "Sum of column: 450667\n",
      "minimum_age\n",
      "18 Years     279575\n",
      "N/A           30526\n",
      "20 Years      17938\n",
      "40 Years       9334\n",
      "21 Years       9238\n",
      "              ...  \n",
      "84 Days           1\n",
      "118 Years         1\n",
      "73 Hours          1\n",
      "167 Days          1\n",
      "23 Days           1\n",
      "Name: count, Length: 318, dtype: int64\n"
     ]
    }
   ],
   "source": [
    "print(\"Sum of column:\", np.sum(list(df['minimum_age'].value_counts())))\n",
    "print('-----------')\n",
    "print(df['minimum_age'].value_counts())"
   ]
  },
  {
   "cell_type": "code",
   "execution_count": 18,
   "id": "badbd047-ecad-4fb1-9486-a953fac13e2f",
   "metadata": {},
   "outputs": [
    {
     "name": "stdout",
     "output_type": "stream",
     "text": [
      "Sum of column: 450667\n",
      "-----------\n",
      "maximum_age\n",
      "N/A           214375\n",
      "65 Years       29033\n",
      "80 Years       23198\n",
      "75 Years       22838\n",
      "70 Years       18586\n",
      "               ...  \n",
      "54 Days            1\n",
      "263 Months         1\n",
      "93 Days            1\n",
      "26 Hours           1\n",
      "37 Days            1\n",
      "Name: count, Length: 473, dtype: int64\n"
     ]
    }
   ],
   "source": [
    "print(\"Sum of column:\", np.sum(list(df['maximum_age'].value_counts())))\n",
    "print('-----------')\n",
    "print(df['maximum_age'].value_counts())"
   ]
  },
  {
   "cell_type": "code",
   "execution_count": 19,
   "id": "1ca8b60b-98b4-4b1a-a90e-4eb765d4fbac",
   "metadata": {},
   "outputs": [
    {
     "name": "stdout",
     "output_type": "stream",
     "text": [
      "Sum of column: 440292\n",
      "-----------\n",
      "healthy_volunteers\n",
      "No                            322154\n",
      "Accepts Healthy Volunteers    118138\n",
      "Name: count, dtype: int64\n"
     ]
    }
   ],
   "source": [
    "print(\"Sum of column:\", np.sum(list(df['healthy_volunteers'].value_counts())))\n",
    "print('-----------')\n",
    "print(df['healthy_volunteers'].value_counts())"
   ]
  },
  {
   "cell_type": "markdown",
   "id": "e32c12c0-279d-4e1d-af6a-87e870dbad2f",
   "metadata": {},
   "source": [
    "### More complicated cases"
   ]
  },
  {
   "cell_type": "code",
   "execution_count": 20,
   "id": "58f37495-179b-4584-9a9f-b17928062f16",
   "metadata": {},
   "outputs": [
    {
     "data": {
      "text/plain": [
       "[{'intervention_type': 'Biological',\n",
       "  'intervention_name': 'V930',\n",
       "  'description': 'V930 Over a 94 week duration, patients will receive a series of 5 injections (2.5 mg/injection), one every other week. Within 2 minutes of each injection of V930, each patient will be given an EP-IM injection consisting of two 60 msec pulses.',\n",
       "  'arm_group_label': '1'},\n",
       " {'intervention_type': 'Biological',\n",
       "  'intervention_name': 'V932',\n",
       "  'description': 'V932 Over a 94 week duration, patients will receive a series of 5 injections, 6 patients will initially received intramuscular V932 vaccinations at a low dose (0.5x109 vg/injection),and following a safety assessment, up to an additional 35 patients will be treated with the high dose V932 (0.5x1011 vg/injection).',\n",
       "  'arm_group_label': '2'}]"
      ]
     },
     "execution_count": 20,
     "metadata": {},
     "output_type": "execute_result"
    }
   ],
   "source": [
    "df['intervention'][0]"
   ]
  },
  {
   "cell_type": "code",
   "execution_count": 24,
   "id": "3b898fed-9732-48ce-b733-1dae7c5708b7",
   "metadata": {},
   "outputs": [
    {
     "data": {
      "text/plain": [
       "dict_keys(['criteria', 'gender', 'minimum_age', 'maximum_age', 'healthy_volunteers'])"
      ]
     },
     "execution_count": 24,
     "metadata": {},
     "output_type": "execute_result"
    }
   ],
   "source": [
    "df['eligibility'][0].keys()"
   ]
  },
  {
   "cell_type": "code",
   "execution_count": 22,
   "id": "79139da5-b8c3-43db-a920-c7080f139124",
   "metadata": {},
   "outputs": [
    {
     "data": {
      "text/plain": [
       "0                  Cancers expressing HER-2 and/or CEA\n",
       "1                                                 None\n",
       "2    [dexmedetomidine, midazolam, remifentanil, Ele...\n",
       "3                                                 None\n",
       "4    [adenocarcinoma of the colon, stage I colon ca...\n",
       "5                                                 None\n",
       "6                                                 None\n",
       "7                                                 None\n",
       "8    [ADHD, ADD, Attention Deficit Hyperactivity Di...\n",
       "9     [wound healing, phototoxicity, Healthy Subjects]\n",
       "Name: keyword, dtype: object"
      ]
     },
     "execution_count": 22,
     "metadata": {},
     "output_type": "execute_result"
    }
   ],
   "source": [
    "df['keyword'][:10]"
   ]
  },
  {
   "cell_type": "code",
   "execution_count": null,
   "id": "8770cfea-e9c4-4563-b2b0-666b4f0e4857",
   "metadata": {},
   "outputs": [],
   "source": [
    "df['condition_browse'][:10]"
   ]
  },
  {
   "cell_type": "markdown",
   "id": "988e6c69-3cbf-4072-9774-84d34a8920e1",
   "metadata": {},
   "source": [
    "### Less complicated"
   ]
  },
  {
   "cell_type": "code",
   "execution_count": null,
   "id": "89945b8b-3686-4787-850c-e0f72c69e4b5",
   "metadata": {},
   "outputs": [],
   "source": [
    "df['primary_purpose'].value_counts()"
   ]
  },
  {
   "cell_type": "code",
   "execution_count": null,
   "id": "be33807d-5d0c-4b86-9ac0-80e5c1112357",
   "metadata": {},
   "outputs": [],
   "source": [
    "df['nct_id'].value_counts()"
   ]
  },
  {
   "cell_type": "code",
   "execution_count": null,
   "id": "5cb320b1-53a1-43ca-a373-6578b78d7974",
   "metadata": {
    "scrolled": true
   },
   "outputs": [],
   "source": [
    "count_url = 0\n",
    "for i in range(len(df['url'])):\n",
    "    count_url += 1 if df['url'][i] else 0\n",
    "print(count_url)"
   ]
  },
  {
   "cell_type": "code",
   "execution_count": null,
   "id": "9d0bd925-5e91-4ce2-8054-642920e47fb2",
   "metadata": {},
   "outputs": [],
   "source": [
    "len(df['id_info'][2].keys())"
   ]
  },
  {
   "cell_type": "code",
   "execution_count": null,
   "id": "bfb3b46c-2452-4ce8-88cd-7be4e04c2221",
   "metadata": {},
   "outputs": [],
   "source": [
    "max_keys = 0\n",
    "max_string_keys = ''\n",
    "for i in range(len(df['id_info'])):\n",
    "    if max_keys >= len(df['id_info'][i].keys()):\n",
    "        break\n",
    "    max_keys = len(df['id_info'][i].keys())\n",
    "    max_string_keys = df['id_info'][i].keys()\n",
    "print(max_keys)\n",
    "print(max_string_keys)\n",
    "\n",
    "min_keys = 100\n",
    "min_string_keys = ''\n",
    "for i in range(len(df['id_info'])):\n",
    "    if min_keys <= len(df['id_info'][i].keys()):\n",
    "        break\n",
    "    min_keys = len(df['id_info'][i].keys())\n",
    "    min_string_keys = df['id_info'][i].keys()\n",
    "print(min_keys)\n",
    "print(min_string_keys)"
   ]
  },
  {
   "cell_type": "code",
   "execution_count": null,
   "id": "67432d52-cd6f-4bb7-a2b9-0bb63708966a",
   "metadata": {},
   "outputs": [],
   "source": [
    "df['id_info'][0].keys()"
   ]
  },
  {
   "cell_type": "code",
   "execution_count": null,
   "id": "eded8c3e-2bc9-4967-9165-f567024ccf77",
   "metadata": {},
   "outputs": [],
   "source": [
    "count_nct_id = 0\n",
    "for i in range(len(df['id_info'])):\n",
    "    count_nct_id += 1 if df['id_info'][i].get('nct_id', 0) else 0\n",
    "print(count_nct_id)"
   ]
  },
  {
   "cell_type": "code",
   "execution_count": null,
   "id": "2ed23882-26b6-4b07-bdf8-faca8d17d9a1",
   "metadata": {},
   "outputs": [],
   "source": [
    "df['brief_title']"
   ]
  },
  {
   "cell_type": "code",
   "execution_count": null,
   "id": "671b0569-4f45-4b41-b582-9d01f6d67541",
   "metadata": {},
   "outputs": [],
   "source": [
    "df['brief_title'].isna().sum()"
   ]
  },
  {
   "cell_type": "code",
   "execution_count": null,
   "id": "9a43d90e-9abb-4339-b32b-c79d4cb5ea8f",
   "metadata": {},
   "outputs": [],
   "source": [
    "df['brief_summary'].isna().sum()"
   ]
  },
  {
   "cell_type": "code",
   "execution_count": null,
   "id": "d6bc43c7-4269-482f-bbd1-2099c909de37",
   "metadata": {},
   "outputs": [],
   "source": [
    "df['brief_summary'].apply(type).value_counts()"
   ]
  },
  {
   "cell_type": "code",
   "execution_count": null,
   "id": "43bb4843-db8e-464a-83b8-d9593d25acff",
   "metadata": {},
   "outputs": [],
   "source": [
    "df['brief_summary'].value_counts()[:10]"
   ]
  },
  {
   "cell_type": "code",
   "execution_count": null,
   "id": "58e6f0da-3a50-4a11-a9f5-33149bfbd845",
   "metadata": {},
   "outputs": [],
   "source": [
    "bad_indexes = df.loc[pd.isna(df[\"brief_summary\"]), :].index\n",
    "print(bad_indexes)\n",
    "print('len(bad_indexes):', len(bad_indexes))"
   ]
  },
  {
   "cell_type": "code",
   "execution_count": null,
   "id": "927f55cb-31d3-4f61-9d97-62a7c20a6364",
   "metadata": {},
   "outputs": [],
   "source": []
  },
  {
   "cell_type": "markdown",
   "id": "0b14cbdb-073e-482f-9c95-4f48ec03dafa",
   "metadata": {},
   "source": [
    "### Check word (tokens) frequency"
   ]
  },
  {
   "cell_type": "markdown",
   "id": "515afa79-37fb-47c5-9f3c-842d6f529949",
   "metadata": {},
   "source": [
    "1. Word frequency in all strings"
   ]
  },
  {
   "cell_type": "code",
   "execution_count": null,
   "id": "4c65a2be-6d46-44ae-aeda-6545c09dfe26",
   "metadata": {},
   "outputs": [],
   "source": [
    "df['brief_summary'][:10000].str.split(expand=True).stack().value_counts()[:30]"
   ]
  },
  {
   "cell_type": "code",
   "execution_count": null,
   "id": "92a1d507-1bf1-4f67-acd8-b20e1386a154",
   "metadata": {},
   "outputs": [],
   "source": [
    "df['brief_summary']"
   ]
  },
  {
   "cell_type": "markdown",
   "id": "699b3c03-ea41-491b-8ba1-dd75a901dfb8",
   "metadata": {},
   "source": [
    "2. Token frequency in all strings"
   ]
  },
  {
   "cell_type": "code",
   "execution_count": null,
   "id": "790f6c25-40c8-45c9-937b-f66db9297dd6",
   "metadata": {},
   "outputs": [],
   "source": [
    "tokenizer = None"
   ]
  },
  {
   "cell_type": "code",
   "execution_count": null,
   "id": "d321f214-e947-4d18-bbac-6d5e1827a44e",
   "metadata": {},
   "outputs": [],
   "source": []
  }
 ],
 "metadata": {
  "kernelspec": {
   "display_name": "trec_py311",
   "language": "python",
   "name": "trec_py311"
  },
  "language_info": {
   "codemirror_mode": {
    "name": "ipython",
    "version": 3
   },
   "file_extension": ".py",
   "mimetype": "text/x-python",
   "name": "python",
   "nbconvert_exporter": "python",
   "pygments_lexer": "ipython3",
   "version": "3.11.4"
  }
 },
 "nbformat": 4,
 "nbformat_minor": 5
}
