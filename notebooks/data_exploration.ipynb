{
 "cells": [
  {
   "cell_type": "code",
   "execution_count": 1,
   "id": "e489253e-cb5b-4c65-a742-c267044cb87d",
   "metadata": {},
   "outputs": [],
   "source": [
    "import json\n",
    "import logging\n",
    "import xml.etree.ElementTree as ET\n",
    "import os\n",
    "import pandas as pd\n",
    "import numpy as np\n",
    "from tqdm import tqdm\n",
    "import xmltodict"
   ]
  },
  {
   "cell_type": "markdown",
   "id": "caee4048-a0be-40a2-908c-29f971bd130e",
   "metadata": {},
   "source": [
    "## Utils"
   ]
  },
  {
   "cell_type": "code",
   "execution_count": 2,
   "id": "68d32b91-1e22-40f0-9386-761dd829ccf9",
   "metadata": {},
   "outputs": [],
   "source": [
    "def get_file_names(raw_data_folder_path):\n",
    "    \"\"\"\n",
    "    Get all the file paths in a list\n",
    "    :param raw_data_folder_path: path to the raw data folder\n",
    "    :return: list of file paths\n",
    "    \"\"\"\n",
    "    file_paths = []\n",
    "    for splits in os.scandir(raw_data_folder_path):\n",
    "        if splits.is_dir():\n",
    "            for nct_dir in os.scandir(splits.path):\n",
    "                for file in os.scandir(nct_dir.path):\n",
    "                    if file.is_file():\n",
    "                        file_paths.append(file.path)\n",
    "    return file_paths\n",
    "\n",
    "\n",
    "def find_xml_without_eligibility_tag(data_dir='data/raw'):\n",
    "    \"\"\"\n",
    "    Find all the XML files without eligibility tag in TREC 2023 CT\n",
    "    :param data_dir: path to the raw data folder\n",
    "    :return: list of file paths without eligibility tag\n",
    "    \"\"\"\n",
    "    xml_files = get_file_names(data_dir)\n",
    "    xml_without_eligibility = set()\n",
    "    for xml_file in xml_files:\n",
    "        tree = ET.parse(xml_file)\n",
    "        root = tree.getroot()\n",
    "\n",
    "        # Check if <eligibility> tag exists as an immediate child of root\n",
    "        eligibility_tag = root.find('eligibility')\n",
    "        if not eligibility_tag:\n",
    "            xml_without_eligibility.add(xml_file)\n",
    "    return list(xml_without_eligibility)\n",
    "\n",
    "\n",
    "def get_xml_full_path_from_nct_ids(indexes, raw_data_folder_path):\n",
    "    \"\"\"\n",
    "    Get the full path of the XML files from a list of NCT IDs and a path to the raw data folder\n",
    "    :param indexes: list of NCT IDs\n",
    "    :param raw_data_folder_path: path to the raw data folder\n",
    "    :return: list of full paths of the XML files\n",
    "    \"\"\"\n",
    "    file_paths = get_file_names(raw_data_folder_path)\n",
    "    indexes_set = set(indexes)\n",
    "    res_paths = [file_path for file_path in file_paths if file_path[-15:-4] in indexes_set]\n",
    "    return res_paths\n",
    "\n",
    "\n",
    "def make_json_dump_from_xml_file_paths(file_paths, output_file_name='data_none'):\n",
    "    \"\"\"\n",
    "    Dumps all the contente from a specific XML file in a json file\n",
    "    :param file_paths: list of XML file paths\n",
    "    :param output_file_name: name of the output file\n",
    "    :return: None (stores the data in a json file)\n",
    "    \"\"\"\n",
    "    output_path = os.path.normpath(os.getcwd() + '/..' + '/data/processed/' + output_file_name + '.json')\n",
    "\n",
    "    dict_list = []\n",
    "    for file_path in tqdm(file_paths, desc='Parsing XML files to json:', disable=False, position=0, leave=True):\n",
    "        with open(file_path, 'r') as f:\n",
    "            xml_string = f.read()\n",
    "        json_data = xmltodict.parse(xml_string)\n",
    "        dict_list.append(json_data)\n",
    "\n",
    "    df = pd.DataFrame.from_dict(dict_list)\n",
    "\n",
    "    with open(output_path, 'w', encoding='utf-8') as file:\n",
    "        json.dump(df.to_dict(), file, ensure_ascii=False, indent=4)\n",
    "\n",
    "    return None\n",
    "\n",
    "\n",
    "def make_json_dump_from_df(df, output_path):\n",
    "    \"\"\"\n",
    "    Dumps all the contents from a specific dataframe in a json file\n",
    "    :param df: dataframe\n",
    "    :param output_path: path to the output json file\n",
    "    :return: None (stores the data in a json file)\n",
    "    \"\"\"\n",
    "    df = pd.DataFrame.from_dict(dict_list)['eligibility']\n",
    "\n",
    "    with open(output_path, 'w', encoding='utf-8') as file:\n",
    "        json.dump(df.to_dict(), file, ensure_ascii=False, indent=4)\n",
    "\n",
    "    return None\n"
   ]
  },
  {
   "cell_type": "markdown",
   "id": "400ffb9b-4006-4d7f-97fa-0fe941205f13",
   "metadata": {},
   "source": [
    "## Data exporation from json file for only sum of the main XML tags"
   ]
  },
  {
   "cell_type": "code",
   "execution_count": 3,
   "id": "dd7278c6-856d-4422-a91d-2cd684433b30",
   "metadata": {},
   "outputs": [],
   "source": [
    "# To define for later usage\n",
    "raw_data_folder_path = os.path.normpath(os.getcwd() + '/..' + '/data/raw/')"
   ]
  },
  {
   "cell_type": "code",
   "execution_count": 4,
   "id": "f8e165ce-46b4-4cb6-b351-e1b57f878309",
   "metadata": {},
   "outputs": [
    {
     "data": {
      "text/plain": [
       "'/home/hazot/code/trec-clinical-trials-2023/data/processed/data.json'"
      ]
     },
     "execution_count": 4,
     "metadata": {},
     "output_type": "execute_result"
    }
   ],
   "source": [
    "filepath = os.path.normpath(os.getcwd() + '/..' + '/data/processed/data.json')\n",
    "filepath"
   ]
  },
  {
   "cell_type": "code",
   "execution_count": 5,
   "id": "eb18923d-4356-4471-8686-994ac13afa4e",
   "metadata": {},
   "outputs": [],
   "source": [
    "df = pd.read_json(filepath)"
   ]
  },
  {
   "cell_type": "code",
   "execution_count": 6,
   "id": "7638a2e4-0c9b-44c2-b96d-17c2df9763a0",
   "metadata": {},
   "outputs": [
    {
     "name": "stdout",
     "output_type": "stream",
     "text": [
      "(451538, 17)\n",
      "Index(['nct_id', 'link_text', 'url', 'id_info', 'brief_title', 'sponsors',\n",
      "       'brief_summary', 'detailed_description', 'primary_purpose',\n",
      "       'intervention', 'eligibility', 'gender', 'minimum_age', 'maximum_age',\n",
      "       'healthy_volunteers', 'keyword', 'condition_browse'],\n",
      "      dtype='object')\n"
     ]
    }
   ],
   "source": [
    "print(df.shape)\n",
    "print(df.columns)"
   ]
  },
  {
   "cell_type": "markdown",
   "id": "a3fd9f9f-31d3-49fb-accc-a28eb0dda449",
   "metadata": {
    "jp-MarkdownHeadingCollapsed": true
   },
   "source": [
    "##### Some numbers"
   ]
  },
  {
   "cell_type": "code",
   "execution_count": 7,
   "id": "9b92e64e-16eb-470f-bbef-8b632979161f",
   "metadata": {},
   "outputs": [
    {
     "name": "stdout",
     "output_type": "stream",
     "text": [
      "Sum of column: 450667\n",
      "-----------\n",
      "gender\n",
      "All       387617\n",
      "Female     43441\n",
      "Male       19609\n",
      "Name: count, dtype: int64\n"
     ]
    }
   ],
   "source": [
    "print(\"Sum of column:\", np.sum(list(df['gender'].value_counts())))\n",
    "print('-----------')\n",
    "print(df['gender'].value_counts())"
   ]
  },
  {
   "cell_type": "code",
   "execution_count": 8,
   "id": "213f2386-d9dd-41ca-ab30-998acb60175b",
   "metadata": {},
   "outputs": [
    {
     "name": "stdout",
     "output_type": "stream",
     "text": [
      "Sum of column: 450667\n",
      "-----------\n",
      "minimum_age\n",
      "18 Years     279575\n",
      "N/A           30526\n",
      "20 Years      17938\n",
      "40 Years       9334\n",
      "21 Years       9238\n",
      "              ...  \n",
      "84 Days           1\n",
      "118 Years         1\n",
      "73 Hours          1\n",
      "167 Days          1\n",
      "23 Days           1\n",
      "Name: count, Length: 318, dtype: int64\n"
     ]
    }
   ],
   "source": [
    "print(\"Sum of column:\", np.sum(list(df['minimum_age'].value_counts())))\n",
    "print('-----------')\n",
    "print(df['minimum_age'].value_counts())"
   ]
  },
  {
   "cell_type": "code",
   "execution_count": 9,
   "id": "299287ac-b22b-4951-99db-2301ad13756c",
   "metadata": {},
   "outputs": [
    {
     "data": {
      "text/plain": [
       "30526"
      ]
     },
     "execution_count": 9,
     "metadata": {},
     "output_type": "execute_result"
    }
   ],
   "source": [
    "# Full list of possibilities\n",
    "dict(df['minimum_age'].value_counts())['N/A']"
   ]
  },
  {
   "cell_type": "code",
   "execution_count": 10,
   "id": "badbd047-ecad-4fb1-9486-a953fac13e2f",
   "metadata": {},
   "outputs": [
    {
     "name": "stdout",
     "output_type": "stream",
     "text": [
      "Sum of column: 450667\n",
      "-----------\n",
      "maximum_age\n",
      "N/A           214375\n",
      "65 Years       29033\n",
      "80 Years       23198\n",
      "75 Years       22838\n",
      "70 Years       18586\n",
      "               ...  \n",
      "54 Days            1\n",
      "263 Months         1\n",
      "93 Days            1\n",
      "26 Hours           1\n",
      "37 Days            1\n",
      "Name: count, Length: 473, dtype: int64\n"
     ]
    }
   ],
   "source": [
    "print(\"Sum of column:\", np.sum(list(df['maximum_age'].value_counts())))\n",
    "print('-----------')\n",
    "print(df['maximum_age'].value_counts())"
   ]
  },
  {
   "cell_type": "code",
   "execution_count": null,
   "id": "1ca8b60b-98b4-4b1a-a90e-4eb765d4fbac",
   "metadata": {},
   "outputs": [],
   "source": [
    "print(\"Sum of column:\", np.sum(list(df['healthy_volunteers'].value_counts())))\n",
    "print('-----------')\n",
    "print(df['healthy_volunteers'].value_counts())"
   ]
  },
  {
   "cell_type": "markdown",
   "id": "e32c12c0-279d-4e1d-af6a-87e870dbad2f",
   "metadata": {},
   "source": [
    "### More complicated cases (more subtags, more intricate dicts)"
   ]
  },
  {
   "cell_type": "markdown",
   "id": "1bf8a820-be93-4a8e-a0fc-3493d90111c6",
   "metadata": {},
   "source": [
    "#### Eligibility field"
   ]
  },
  {
   "cell_type": "markdown",
   "id": "fa37207f-aebe-455e-b6e9-f3697dfa758f",
   "metadata": {},
   "source": [
    "##### Extract full xml file for NONE eligibility fields in one json file"
   ]
  },
  {
   "cell_type": "code",
   "execution_count": 14,
   "id": "4e9e0eff-841a-48a0-b4a0-2b6256a1ccb4",
   "metadata": {},
   "outputs": [
    {
     "name": "stdout",
     "output_type": "stream",
     "text": [
      "Number of 'None' in Eligibility field: 871\n"
     ]
    }
   ],
   "source": [
    "# How many None in Eligibility column\n",
    "print(\"Number of 'None' in Eligibility field:\", df['eligibility'].isnull().sum())"
   ]
  },
  {
   "cell_type": "code",
   "execution_count": 20,
   "id": "9f481e34-dc73-4070-a18e-13d7130a45e7",
   "metadata": {},
   "outputs": [
    {
     "name": "stdout",
     "output_type": "stream",
     "text": [
      "[854, 936, 977, 2962, 3354, 3359, 4953, 5235, 5307, 5517] ...\n"
     ]
    }
   ],
   "source": [
    "indexes_with_none_eligbility = [i for i, x in enumerate(list(df['eligibility'].isnull())) if x is True]\n",
    "print(indexes_with_none_eligbility[:10], \"...\")"
   ]
  },
  {
   "cell_type": "code",
   "execution_count": 27,
   "id": "29d9be35-c112-49ec-886d-a627fa501c1d",
   "metadata": {},
   "outputs": [
    {
     "name": "stdout",
     "output_type": "stream",
     "text": [
      "['NCT00800891', 'NCT00809406', 'NCT00806052', 'NCT00843752', 'NCT00840619', 'NCT00846820', 'NCT00506220', 'NCT00758095', 'NCT00758979', 'NCT00759694'] ...\n"
     ]
    }
   ],
   "source": [
    "nct_id_with_none_eligibility = df.iloc[indexes_with_none_eligbility]['nct_id'].tolist()\n",
    "print(nct_id_with_none_eligibility[:10], \"...\")"
   ]
  },
  {
   "cell_type": "code",
   "execution_count": 31,
   "id": "3579948e-20f5-4db2-b52e-fde790f45365",
   "metadata": {},
   "outputs": [
    {
     "data": {
      "text/plain": [
       "['/home/hazot/code/trec-clinical-trials-2023/data/raw/ClinicalTrials.2023-05-08.trials0/NCT0080xxxx/NCT00800891.xml',\n",
       " '/home/hazot/code/trec-clinical-trials-2023/data/raw/ClinicalTrials.2023-05-08.trials0/NCT0080xxxx/NCT00809406.xml',\n",
       " '/home/hazot/code/trec-clinical-trials-2023/data/raw/ClinicalTrials.2023-05-08.trials0/NCT0080xxxx/NCT00806052.xml',\n",
       " '/home/hazot/code/trec-clinical-trials-2023/data/raw/ClinicalTrials.2023-05-08.trials0/NCT0084xxxx/NCT00843752.xml',\n",
       " '/home/hazot/code/trec-clinical-trials-2023/data/raw/ClinicalTrials.2023-05-08.trials0/NCT0084xxxx/NCT00840619.xml']"
      ]
     },
     "execution_count": 31,
     "metadata": {},
     "output_type": "execute_result"
    }
   ],
   "source": [
    "raw_data_folder_path = os.path.normpath(os.getcwd() + '/..' + '/data/raw/')\n",
    "xml_non_eligible_file_paths = get_xml_full_path_from_nct_ids(nct_id_with_none_eligibility, raw_data_folder_path)\n",
    "xml_non_eligible_file_paths[:5]"
   ]
  },
  {
   "cell_type": "markdown",
   "id": "28eb5d1c-288c-4a20-9428-1567404d108d",
   "metadata": {},
   "source": [
    "##### Checking for all possible sub tags and their values"
   ]
  },
  {
   "cell_type": "code",
   "execution_count": 39,
   "id": "3b898fed-9732-48ce-b733-1dae7c5708b7",
   "metadata": {},
   "outputs": [
    {
     "data": {
      "text/plain": [
       "['criteria', 'gender', 'minimum_age', 'maximum_age', 'healthy_volunteers']"
      ]
     },
     "execution_count": 39,
     "metadata": {},
     "output_type": "execute_result"
    }
   ],
   "source": [
    "list(df['eligibility'][0].keys())"
   ]
  },
  {
   "cell_type": "code",
   "execution_count": null,
   "id": "9371a831-f9e9-489f-94ba-654b4d3fea30",
   "metadata": {},
   "outputs": [],
   "source": [
    "# for i in tqdm(range(df.shape[0]), desc='Calculations...', disable=False, position=0, leave=True):\n",
    "#     if df['eligibility'][i] is None:\n",
    "#         continue\n",
    "#     for value in df['eligibility'][0].get('criteria'):"
   ]
  },
  {
   "cell_type": "code",
   "execution_count": 40,
   "id": "67bc4e60-19fc-498c-ab30-7f123728ded5",
   "metadata": {},
   "outputs": [
    {
     "name": "stderr",
     "output_type": "stream",
     "text": [
      "Calculations for inclusion_exclusion_nb: 100%|███████████████████████████████| 451538/451538 [00:11<00:00, 39888.94it/s]\n"
     ]
    }
   ],
   "source": [
    "# Check if criteria has the word \"inclusion\" or \"exclusion\" and count them\n",
    "inclusion_exclusion_nb = {'inclusion': 0, \n",
    "                          'exclusion': 0,\n",
    "                          'inclusion criteria': 0,\n",
    "                          'exclusion criteria': 0}\n",
    "\n",
    "for i in tqdm(range(df.shape[0]), desc='Calculations for inclusion_exclusion_nb', disable=False, position=0, leave=True):\n",
    "    if df['eligibility'][i] is None:\n",
    "        continue\n",
    "    value = df['eligibility'][i].get('criteria')\n",
    "    if value == None:\n",
    "        continue\n",
    "    if 'inclusion' in value.lower():\n",
    "        inclusion_exclusion_nb['inclusion'] += 1\n",
    "    if 'exclusion' in value.lower():\n",
    "        inclusion_exclusion_nb['exclusion'] += 1\n",
    "    if 'inclusion criteria' in value.lower():\n",
    "        inclusion_exclusion_nb['inclusion criteria'] += 1\n",
    "    if 'exclusion criteria' in value.lower():\n",
    "        inclusion_exclusion_nb['exclusion criteria'] += 1"
   ]
  },
  {
   "cell_type": "code",
   "execution_count": 47,
   "id": "7b1208b9-1efc-4ab8-8922-76ef0ddf7e95",
   "metadata": {},
   "outputs": [
    {
     "data": {
      "text/plain": [
       "{'inclusion': 440269,\n",
       " 'exclusion': 434400,\n",
       " 'inclusion criteria': 438764,\n",
       " 'exclusion criteria': 433051}"
      ]
     },
     "execution_count": 47,
     "metadata": {},
     "output_type": "execute_result"
    }
   ],
   "source": [
    "inclusion_exclusion_nb"
   ]
  },
  {
   "cell_type": "code",
   "execution_count": 55,
   "id": "d3768458-1f5c-44c2-92e4-3463794beb3e",
   "metadata": {},
   "outputs": [
    {
     "data": {
      "text/plain": [
       "\"dict_items([('criteria', 'Inclusion Criteria The inclusion criteria are the following Consenting, English speaking women between ages 18 and 80 who will undergo same day vaginal female pelvic reconstructive surgery at MetroHealth Medical Center Ability to read VAS Scores Specific vaginal procedures include, but are not limited to Periurethral bulking Perineoplasty Complete vaginectomy Le Forte colpocleisis Anterior repair Posterior repair Enterocele repair Anterior and posterior repair Anterior, posterior and enterocele repair Transvaginal mesh use Sacrospinous ligament fixation Uterosacral ligament suspension Vaginal paravaginal defect repair Midurethral Sling Sphincteroplasty Vaginal hysterectomy, for uterus 250 g or less Vaginal hysterectomy, for uterus 250 g or less; with removal of tube(s), and/or ovary(s) Vaginal hysterectomy, for uterus 250 g or less; with removal of tube(s), and/or ovary(s), with repair of enterocele Vaginal hysterectomy, for uterus 250 g or less; with repair of enterocele Vaginal hysterectomy, for uterus greater than 250 g Vaginal hysterectomy, for uterus greater than 250 g; with removal of tube(s) and/or ovary(s) Vaginal hysterectomy, for uterus greater than 250 g; with removal of tube(s) and/or ovary(s), with repair of enterocele Vaginal hysterectomy, for uterus greater than 250 g; with repair of enterocele Exclusion Criteria The exclusion criteria are the following History of chronic pelvic pain Abdominal surgery Laparoscopic surgery History of psychiatric disease Currently taking analgesic medications Currently taking sedatives Liver disease Renal disease with CrCl < 60cc/min. History of burns from application of ice. Women who did not consent for the study. Intraoperative concern for increased blood loss Unable to speak English Unable to understand VAS Scores Undergoing concomitant abdominal or laparoscopic procedures. Allergy to motrin, toradol, Percocet, Tylenol Active or history of peptic ulcer disease History of GI bleeding or perforation Hemorrhagic diathesis Severe uncontrolled heart failure Inflammatory bowel disease'), ('gender', 'Female'), ('gender_based', 'Yes'), ('gender_description', 'Only patients who undergo same day (<24 hour) female pelvic reconstructive surgery'), ('minimum_age', 'N/A'), ('maximum_age', 'N/A'), ('healthy_volunteers', 'Accepts Healthy Volunteers')])\""
      ]
     },
     "execution_count": 55,
     "metadata": {},
     "output_type": "execute_result"
    }
   ],
   "source": [
    "str(df['eligibility'][i].items())"
   ]
  },
  {
   "cell_type": "code",
   "execution_count": 244,
   "id": "44fb2e96-db8b-476d-9b73-0b203dfbca53",
   "metadata": {},
   "outputs": [
    {
     "name": "stderr",
     "output_type": "stream",
     "text": [
      "Calculations for inclusion_exclusion_nb: 100%|███████████████████████████████| 451538/451538 [00:16<00:00, 27418.44it/s]"
     ]
    },
    {
     "name": "stdout",
     "output_type": "stream",
     "text": [
      "Number of trials without the eligibility tag 871\n"
     ]
    },
    {
     "name": "stderr",
     "output_type": "stream",
     "text": [
      "\n"
     ]
    }
   ],
   "source": [
    "# Takes 10 seconds to run on i7 7700k @ WSL2\n",
    "# Find NCT IDs without the word inclusion or exclusion inside the eligibility tag (does not work with broad text research)\n",
    "nct_ids_without_anything_in_criteria = []\n",
    "low_words_amount = []\n",
    "nct_ids_without_anything_in_eligbility = []\n",
    "\n",
    "nct_ids_without_inclusion_exclusion_in_criteria_dict = {\n",
    "    'inclusion': [],\n",
    "    'exclusion': [],\n",
    "}\n",
    "nct_ids_without_inclusion_exclusion_in_eligibility_dict = {\n",
    "    'inclusion': [],\n",
    "    'exclusion': []\n",
    "}\n",
    "\n",
    "nct_ids_with_synonyms = {'enrollment': [],\n",
    "                         'disease characteristic': []}\n",
    "\n",
    "for i in tqdm(range(df.shape[0]), desc='Calculations for inclusion_exclusion_nb', disable=False, position=0, leave=True):\n",
    "    \n",
    "    if df['eligibility'][i] is None:\n",
    "        nct_ids_without_anything_in_eligbility.append(df['nct_id'][i])\n",
    "        continue\n",
    "        \n",
    "    value_criteria = df['eligibility'][i].get('criteria')\n",
    "    value_eligibility = str(df['eligibility'][i].items())\n",
    "    \n",
    "    if value_criteria == None:\n",
    "        nct_ids_without_anything_in_criteria.append(df['nct_id'][i])\n",
    "        nct_ids_without_inclusion_exclusion_in_criteria_dict['inclusion'].append(df['nct_id'][i])\n",
    "        nct_ids_without_inclusion_exclusion_in_criteria_dict['exclusion'].append(df['nct_id'][i])\n",
    "    else:\n",
    "        value_criteria = value_criteria.lower()\n",
    "        if 'inclusion' not in value_criteria:\n",
    "            nct_ids_without_inclusion_exclusion_in_criteria_dict['inclusion'].append(df['nct_id'][i])\n",
    "        if 'exclusion' not in value_criteria:\n",
    "            nct_ids_without_inclusion_exclusion_in_criteria_dict['exclusion'].append(df['nct_id'][i])\n",
    "        if len(value_criteria.split()) == 5:\n",
    "            low_words_amount.append(df['nct_id'][i])\n",
    "        if 'inclusion' not in value_criteria and 'enrollment' in value_criteria:\n",
    "            nct_ids_with_synonyms['enrollment'].append(df['nct_id'][i])\n",
    "        if 'inclusion' not in value_criteria and 'disease characteristic' in value_criteria:\n",
    "            nct_ids_with_synonyms['disease characteristic'].append(df['nct_id'][i])\n",
    "    \n",
    "    value_eligibility = value_eligibility.lower()\n",
    "    if 'inclusion' not in value_eligibility:\n",
    "        nct_ids_without_inclusion_exclusion_in_eligibility_dict['inclusion'].append(df['nct_id'][i])\n",
    "    if 'exclusion' not in value_eligibility:\n",
    "        nct_ids_without_inclusion_exclusion_in_eligibility_dict['exclusion'].append(df['nct_id'][i])\n",
    "\n",
    "print('Number of trials without the eligibility tag', len(nct_ids_without_anything_in_eligbility))"
   ]
  },
  {
   "cell_type": "code",
   "execution_count": 245,
   "id": "03002e57-44fc-44e1-aa02-3ed3f13b49ce",
   "metadata": {},
   "outputs": [
    {
     "name": "stdout",
     "output_type": "stream",
     "text": [
      "Number of trials where <criteria> has 1 to 5 words: 294\n"
     ]
    }
   ],
   "source": [
    "print(\"Number of trials where <criteria> has 1 to 5 words:\", len(low_words_amount))"
   ]
  },
  {
   "cell_type": "code",
   "execution_count": 246,
   "id": "08c4bb12-d086-4a73-8fa6-53aa0454b8bd",
   "metadata": {},
   "outputs": [
    {
     "name": "stdout",
     "output_type": "stream",
     "text": [
      "nct_ids_without_anything_in_criteria: 75\n"
     ]
    }
   ],
   "source": [
    "print('nct_ids_without_anything_in_criteria:', len(nct_ids_without_anything_in_criteria))"
   ]
  },
  {
   "cell_type": "code",
   "execution_count": 247,
   "id": "06539da0-ffef-4d8b-b28c-0ba9cbf91368",
   "metadata": {},
   "outputs": [
    {
     "name": "stdout",
     "output_type": "stream",
     "text": [
      "nct ids without 'inclusion' or 'exclusion' in criteria.\n",
      "# inclusion: 10323\n",
      "# exclusion: 16192\n",
      "len(nct_ids_without_inclusion_exlucion_list: 17022\n"
     ]
    }
   ],
   "source": [
    "print(\"nct ids without 'inclusion' or 'exclusion' in criteria.\")\n",
    "print('# inclusion:', len(nct_ids_without_inclusion_exlucion_dict['inclusion']))\n",
    "print('# exclusion:', len(nct_ids_without_inclusion_exlucion_dict['exclusion']))\n",
    "\n",
    "nct_ids_without_inclusion_exclusion_in_criteria_list = list(set(nct_ids_without_inclusion_exclusion_in_criteria_dict['inclusion'] + nct_ids_without_inclusion_exclusion_in_criteria_dict['exclusion']))\n",
    "print('len(nct_ids_without_inclusion_exlucion_list:', len(nct_ids_without_inclusion_exclusion_in_criteria_list))"
   ]
  },
  {
   "cell_type": "code",
   "execution_count": 248,
   "id": "42282442-c3ee-4c31-8ed2-c72069abf6f5",
   "metadata": {},
   "outputs": [
    {
     "name": "stdout",
     "output_type": "stream",
     "text": [
      "nct ids without 'inclusion' or 'exclusion' in eligibility.\n",
      "# inclusion: 10377\n",
      "# exclusion: 16245\n",
      "len(nct_ids_without_inclusion_exlucion_list: 16994\n"
     ]
    }
   ],
   "source": [
    "print(\"nct ids without 'inclusion' or 'exclusion' in eligibility.\")\n",
    "print('# inclusion:', len(nct_ids_without_inclusion_exclusion_in_eligibility_dict['inclusion']))\n",
    "print('# exclusion:', len(nct_ids_without_inclusion_exclusion_in_eligibility_dict['exclusion']))\n",
    "\n",
    "nct_ids_without_inclusion_exclusion_in_eligibility_list = list(set(nct_ids_without_inclusion_exclusion_in_eligibility_dict['inclusion'] + nct_ids_without_inclusion_exclusion_in_eligibility_dict['exclusion']))\n",
    "print('len(nct_ids_without_inclusion_exlucion_list:', len(nct_ids_without_inclusion_exclusion_in_eligibility_list))"
   ]
  },
  {
   "cell_type": "code",
   "execution_count": 249,
   "id": "4e4cfa84-1efa-4048-ae64-0ab2fc9aa9de",
   "metadata": {},
   "outputs": [
    {
     "name": "stdout",
     "output_type": "stream",
     "text": [
      "len(diff_nct_ids): 28\n"
     ]
    }
   ],
   "source": [
    "# Difference between eligibility and criteria\n",
    "diff_nct_ids = set(nct_ids_without_inclusion_exclusion_in_criteria_list) - set(nct_ids_without_inclusion_exclusion_in_eligibility_list)\n",
    "print('len(diff_nct_ids):', len(diff_nct_ids))"
   ]
  },
  {
   "cell_type": "code",
   "execution_count": 250,
   "id": "a61a14c9-73ab-4906-862a-cd54117fd30f",
   "metadata": {},
   "outputs": [
    {
     "name": "stdout",
     "output_type": "stream",
     "text": [
      "# enrollment: 532\n"
     ]
    }
   ],
   "source": [
    "print('# enrollment:', len(nct_ids_with_synonyms['enrollment']))"
   ]
  },
  {
   "cell_type": "code",
   "execution_count": 252,
   "id": "358281e0-a029-42fe-8346-e8cb0381be69",
   "metadata": {},
   "outputs": [
    {
     "name": "stdout",
     "output_type": "stream",
     "text": [
      "# enrollment: 6317\n"
     ]
    }
   ],
   "source": [
    "print('# enrollment:', len(nct_ids_with_synonyms['disease characteristic']))"
   ]
  },
  {
   "cell_type": "code",
   "execution_count": 251,
   "id": "4ed0e1d4-057d-46d1-ab76-476a566579b9",
   "metadata": {},
   "outputs": [
    {
     "data": {
      "text/plain": [
       "'NCT00640861'"
      ]
     },
     "execution_count": 251,
     "metadata": {},
     "output_type": "execute_result"
    }
   ],
   "source": [
    "nct_ids_with_synonyms['enrollment'][0]"
   ]
  },
  {
   "cell_type": "markdown",
   "id": "48bd750f-0dd6-4228-a86a-5aea7836a468",
   "metadata": {},
   "source": [
    "##### Analyzing some trials with \"inclusion\" outside of the 'criteria' sub tag"
   ]
  },
  {
   "cell_type": "code",
   "execution_count": 241,
   "id": "2f48a52f-0603-4658-a22d-282ae14264bc",
   "metadata": {},
   "outputs": [
    {
     "name": "stdout",
     "output_type": "stream",
     "text": [
      "['NCT02450916', 'NCT05161429', 'NCT03962699', 'NCT05208463', 'NCT03005197', 'NCT04003064', 'NCT02096692', 'NCT01717001', 'NCT05541302', 'NCT02219555', 'NCT02197780', 'NCT00786708', 'NCT05029843', 'NCT00643487', 'NCT04638179', 'NCT00898781', 'NCT00677378', 'NCT01788943', 'NCT00910884', 'NCT05847361', 'NCT02318550', 'NCT04754854', 'NCT01667276', 'NCT01366248', 'NCT03729557', 'NCT03437486', 'NCT05026580', 'NCT02841670']\n"
     ]
    }
   ],
   "source": [
    "print(list(diff_nct_ids))"
   ]
  },
  {
   "cell_type": "code",
   "execution_count": 265,
   "id": "b0449503-aab9-4b97-a795-2cdd34ffe004",
   "metadata": {},
   "outputs": [
    {
     "data": {
      "text/plain": [
       "451538"
      ]
     },
     "execution_count": 265,
     "metadata": {},
     "output_type": "execute_result"
    }
   ],
   "source": [
    "df.shape[0]"
   ]
  },
  {
   "cell_type": "code",
   "execution_count": 263,
   "id": "a93943e1-0efe-41fe-ac15-b1fa539c1f02",
   "metadata": {},
   "outputs": [
    {
     "name": "stdout",
     "output_type": "stream",
     "text": [
      "NCT03323151\n",
      "\n",
      "dict_items([('criteria', \"- Relapsed or refractory, pathologically proven mantle cell lymphoma. Must have a current or prior tissue sample that is IHC positive for cyclin D 1 or that is positive by FISH or cytogenetics for t(11;14). Must have been refractory to and/or relapsed/progressed after at least 1 prior therapy. Prior autologous or allogeneic transplant are allowed. Patients may not have active grade II-IV acute graft-versus-host disease (GVHD) or moderate/severe chronic GVHD by NIH criteria and may not require immunosuppressive medications and/or corticosteroids for the management of acute or chronic GVHD. Phase I Prior proteasome inhibitor and/or Bruton's tyrosine kinase (BTK) inhibitors are allowed but patients may not have been exposed to the combination of proteasome inhibitor and BTK inhibitor. Patients who have progressed on ibrutinib that are felt to be at high risk for rapid progression on this study shall not be eligible for the phase I portion of the study. NOTE Ibrutinib pre-treated patients must meet all eligibility criteria AND must have discontinued prior ibrutinib at least 3 months prior to starting study therapy. PHASE I COMPLETED NOVEMBER 25, 2019. Phase II Prior proteasome inhibitors allowed. (Please note prior to Version 3.0 of the protocol prior proteasome inhibitor and/or Bruton's tyrosine kinase inhibitors were allowed but patients could not have been exposed to the combination of proteasome inhibitor and BTK inhibitor). Age ≥ 18 years. Eastern Oncology Oncology Group (ECOG) performance status of 0-2. Ability to understand and willingness to sign Institutional Review Board (IRB)-approved informed consent. Willing to provide archived tumor tissue, bone marrow (if sufficient bone marrow and tumor tissue are available) and blood samples for research. Adequate organ function as measured by the following criteria Absolute Neutrophil Count (ANC) ≥ 750/mm³ Platelets ˃50,000/mm³ Serum Creatinine ≤ 2x Upper Limit Normal (ULN) ALT and AST ≤ 3x ULN Total Bilirubin ≤ 1.5x ULN Patients must not have received systemic treatment for MCL for at least 14 days prior to enrollment, except for steroids which may be used to manage acute symptoms related to disease up to 48 hours prior to starting study therapy. Radiation therapy must be concluded at least 14 days prior to enrollment. Women must not be pregnant or breastfeeding since we do not know the effects of ixazomib and ibrutinib on the fetus or breastfeeding child. All sexually active females of childbearing potential must have a blood test to rule out pregnancy within 2 weeks prior to registration. Sexually active women of child-bearing potential with a non-sterilized male partner and sexually active men must agree to use 2 methods of adequate contraception (hormonal plus barrier or 2 barrier forms) OR abstinence prior to study entry, for the duration of study participation, and for 3 months following last dose of study drugs. Patients must have resolved all prior non-hematologic toxicities assessed as related to prior therapy to ≤ grade 1. Patients must have measurable disease (i.e., ≥ 1.5 cm in largest diameter) by conventional imaging modalities. Patients with extranodal involvement as the only measurable site of disease must have a largest diameter ≥ 1.0 cm and must be attributable to active lymphoma in the opinion of the investigator. Patients may not have current/active Central Nervous System (CNS) involvement with mantle cell lymphoma (patients with prior CNS involvement are eligible as long as they have had no evidence of active CNS disease for at least 6 months). Patients may not have another malignancy that could interfere with the evaluation of safety or efficacy of this combination. Patients with a prior malignancy will be allowed without study chair approval in the following circumstances Not currently active and diagnosed at least 3 years prior to the date of enrollment. Non-invasive diseases such as low risk cervical cancer or any cancer in situ Localized disease in which chemotherapy would not be indicated (such as Stage I colon, lung, prostate or breast cancer). Patients with other malignancies not meeting these criteria must be discussed with PrECOG prior to enrollment. Patients requiring long-term anticoagulation must be managed on an anticoagulant besides warfarin. Patients who require warfarin are not eligible. Patients with a clinically significant bleeding episode as judged by the investigator within 3 months of registration are not eligible, except patients who suffer bleeding due to trauma. Patients may not have had major surgery within 14 days, or minor surgery within 3 days, before registration. Patients may not have any active infection requiring oral or intravenous antimicrobial therapy at the time of therapy initiation. Patients with a recent self-limited infection that has clinically resolved may complete a prescribed course of antimicrobial therapy after study initiation as long as they are asymptomatic with no clinical evidence of infection for at least 7 days prior to treatment. Patients with a recent serious (grade ≥ 3) infection requiring hospitalization must have completed all antimicrobial therapy within 14 days of therapy initiation. Patients may not have evidence of uncontrolled cardiovascular conditions, including uncontrolled hypertension, uncontrolled cardiac arrhythmias, symptomatic congestive heart failure (New York Heart Association (NYHA) class III or higher, unstable angina, or myocardial infarction within the past 6 months. Patients with a history of any significant cardiovascular disease that has been controlled for at least 14 days before registration are allowed (except for patients who have had a myocardial infarction within 6 months). No systemic treatment, within 14 days before the first dose of ibrutinib with moderate or strong inhibitors of CYP3A (Strong Inhibitors ketoconazole, itraconazole, voriconazole, posaconazole, clarithromycin, and telithromycin; Moderate Inhibitors fluconazole, darunavir, erythromycin, diltiazem, atazanavir, aprepitant, amprenavir, fosamprenavir, crizotinib, imatinib, verapamil, ciprofloxacin, grapefruit juice products, and Seville oranges) or strong CYP3A inducers for ibrutinib and ixazomib (carbamazepine, rifampin, phenytoin, St. John's wort). Patients with ongoing or active systemic infection, active hepatitis B or C virus infection, or known Human Immunodeficiency Virus (HIV) positive are not eligible. Testing is not required in absence of clinical suspicion. Patients with a history of hepatitis B or C must have a negative peripheral blood Polymerase Chain Reaction (PCR) and may not be positive for Hepatitis B surface antigen. Patients with cirrhosis or other evidence of liver damage due to Hepatitis B or C are not eligible. Patients with any serious medical or psychiatric illness that could, in the investigator's opinion, potentially interfere with the completion of the treatment according to the protocol are not eligible. Patients with a known allergy to any of the study medications, their analogues, or excipients in the various formulations of any agent are not eligible. Patients with known gastrointestinal (GI) disease or prior GI procedure that could interfere with the oral absorption or tolerance of ixazomib or ibrutinib including difficulty swallowing are not eligible. Patients with ≥ Grade 2 peripheral neuropathy, or Grade 1 peripheral neuropathy with pain on clinical examination during the screening period are not eligible. Patients may not participate in any other therapeutic clinical trials, including those with other investigational agents not included in this trial throughout the duration of this study. As ibrutinib will not be provided by the study, the patient must be able to obtain ibrutinib through other means (i.e., commercially or through patient assistance programs). This must be confirmed prior to registration.\"), ('gender', 'All'), ('minimum_age', '18 Years'), ('maximum_age', 'N/A'), ('healthy_volunteers', 'No')])\n"
     ]
    }
   ],
   "source": [
    "# id = nct_ids_with_synonyms['disease characteristic'][0]\n",
    "id = nct_ids_with_synonyms['enrollment'][-4]\n",
    "# id = list(diff_nct_ids)[3]\n",
    "print(id)\n",
    "print()\n",
    "print(str(df[df['nct_id'] == id]['eligibility'][int(str(df[df['nct_id'] == id]['eligibility'].keys()[0]))].items()))"
   ]
  },
  {
   "cell_type": "code",
   "execution_count": null,
   "id": "f4d1d02f-f0f0-4d4d-b0c6-81ca9b8c5036",
   "metadata": {},
   "outputs": [],
   "source": []
  },
  {
   "cell_type": "code",
   "execution_count": null,
   "id": "2bb17f53-bda9-4347-ad21-256802274674",
   "metadata": {},
   "outputs": [],
   "source": []
  },
  {
   "cell_type": "code",
   "execution_count": null,
   "id": "f7b10fa3-5475-4910-926b-a2ad6b513f10",
   "metadata": {},
   "outputs": [],
   "source": []
  },
  {
   "cell_type": "code",
   "execution_count": null,
   "id": "5175c41c-9267-4e3b-8fa0-7369bf2a5b51",
   "metadata": {},
   "outputs": [],
   "source": [
    "special_case_df = df[df['nct_id'].isin(special_case_nct_combined_normal)]\n",
    "special_case_df.shape"
   ]
  },
  {
   "cell_type": "code",
   "execution_count": null,
   "id": "dc0336e0-82c4-4a63-8523-95cca94ecc1c",
   "metadata": {},
   "outputs": [],
   "source": [
    "special_case_df['eligibility'].iloc[0].get('criteria').split()[:2]"
   ]
  },
  {
   "cell_type": "code",
   "execution_count": null,
   "id": "3848a008-4d80-4ebb-90fd-f1a2738d7013",
   "metadata": {},
   "outputs": [],
   "source": [
    "# get first two words from special cases\n",
    "\n",
    "words = {}\n",
    "idsss = []\n",
    "enrollments = []\n",
    "\n",
    "for i in range(special_case_df.shape[0]):\n",
    "    first_word = special_case_df['eligibility'].iloc[i].get('criteria').split()[0].lower()\n",
    "    if first_word in words:\n",
    "        words[first_word] += 1\n",
    "    elif first_word not in words:\n",
    "        words[first_word] = 1\n",
    "    if 'inclusion' in first_word:\n",
    "        idsss.append(special_case_df['nct_id'].iloc[i])\n",
    "    if 'enrollment' in first_word:\n",
    "        enrollments.append(special_case_df['nct_id'].iloc[i])"
   ]
  },
  {
   "cell_type": "code",
   "execution_count": null,
   "id": "c3857771-e229-4ee5-82a6-54cbc9113b8e",
   "metadata": {},
   "outputs": [],
   "source": [
    "len(idsss)"
   ]
  },
  {
   "cell_type": "code",
   "execution_count": null,
   "id": "85cc6864-f8fc-4b16-9411-5d521755a691",
   "metadata": {},
   "outputs": [],
   "source": [
    "enrollments"
   ]
  },
  {
   "cell_type": "code",
   "execution_count": null,
   "id": "c3b905bf-f6b1-4d84-b293-2a8688947995",
   "metadata": {},
   "outputs": [],
   "source": [
    "df[df['nct_id'] == 'NCT00077831']['eligibility'][1881]['criteria']"
   ]
  },
  {
   "cell_type": "code",
   "execution_count": null,
   "id": "ec345f84-fdd2-423f-9f6a-3a258491582d",
   "metadata": {},
   "outputs": [],
   "source": [
    "df[df['nct_id'] == 'NCT00077831']['eligibility']"
   ]
  },
  {
   "cell_type": "code",
   "execution_count": null,
   "id": "30e0a58f-b77a-4c7a-abaa-0bac8a9b98c6",
   "metadata": {},
   "outputs": [],
   "source": [
    "words"
   ]
  },
  {
   "cell_type": "code",
   "execution_count": null,
   "id": "034c4b80-b73c-4012-9124-f2c9260371fb",
   "metadata": {},
   "outputs": [],
   "source": [
    "all_possible_eligibility_sub_tags = {}\n",
    "\n",
    "for i in tqdm(range(df.shape[0]), desc='Calculations for all_possible_eligibility_sub_tags', disable=False, position=0, leave=True):\n",
    "    if df['eligibility'][i] is None:\n",
    "        continue\n",
    "    for key in tuple(df['eligibility'][i].keys()):\n",
    "        if key not in all_possible_tags:\n",
    "            all_possible_eligibility_sub_tags[key] = 1\n",
    "        else:\n",
    "            all_possible_eligibility_sub_tags[key] += 1"
   ]
  },
  {
   "cell_type": "code",
   "execution_count": null,
   "id": "5593dcfe-5324-4b0c-bf32-8764c0d08ab0",
   "metadata": {},
   "outputs": [],
   "source": [
    "all_possible_tags"
   ]
  },
  {
   "cell_type": "code",
   "execution_count": null,
   "id": "060d0f52-a667-428f-9475-b1967fb74067",
   "metadata": {},
   "outputs": [],
   "source": [
    "all_possible_values_sample = {}\n",
    "\n",
    "for i in tqdm(range(df.shape[0]), desc='Calculations...', disable=False, position=0, leave=True):\n",
    "    if df['eligibility'][i] is None:\n",
    "        continue\n",
    "    value = df['eligibility'][i].get('sampling_method')\n",
    "    if value is None:\n",
    "        continue\n",
    "    if value not in all_possible_values_sample:\n",
    "        all_possible_values_sample[value] = 1\n",
    "    else:\n",
    "        all_possible_values_sample[value] += 1\n",
    "    "
   ]
  },
  {
   "cell_type": "code",
   "execution_count": null,
   "id": "c324fcc4-90d4-4a13-bc32-38dc8b46cb2f",
   "metadata": {},
   "outputs": [],
   "source": [
    "all_possible_values_sample"
   ]
  },
  {
   "cell_type": "code",
   "execution_count": null,
   "id": "1c6d40fc-21ce-45a8-9836-eb52b97abbab",
   "metadata": {},
   "outputs": [],
   "source": []
  },
  {
   "cell_type": "markdown",
   "id": "dc40f177-98d9-4d77-826d-94e758d4ba38",
   "metadata": {
    "jp-MarkdownHeadingCollapsed": true
   },
   "source": [
    "#### Intervention field"
   ]
  },
  {
   "cell_type": "code",
   "execution_count": null,
   "id": "58f37495-179b-4584-9a9f-b17928062f16",
   "metadata": {},
   "outputs": [],
   "source": [
    "df['intervention'][0]"
   ]
  },
  {
   "cell_type": "code",
   "execution_count": null,
   "id": "79139da5-b8c3-43db-a920-c7080f139124",
   "metadata": {},
   "outputs": [],
   "source": [
    "df['keyword'][:10]"
   ]
  },
  {
   "cell_type": "code",
   "execution_count": null,
   "id": "8770cfea-e9c4-4563-b2b0-666b4f0e4857",
   "metadata": {},
   "outputs": [],
   "source": [
    "df['condition_browse'][:10]"
   ]
  },
  {
   "cell_type": "markdown",
   "id": "988e6c69-3cbf-4072-9774-84d34a8920e1",
   "metadata": {},
   "source": [
    "### Less complicated cases (less subtags)"
   ]
  },
  {
   "cell_type": "code",
   "execution_count": null,
   "id": "89945b8b-3686-4787-850c-e0f72c69e4b5",
   "metadata": {},
   "outputs": [],
   "source": [
    "df['primary_purpose'].value_counts()"
   ]
  },
  {
   "cell_type": "code",
   "execution_count": null,
   "id": "be33807d-5d0c-4b86-9ac0-80e5c1112357",
   "metadata": {},
   "outputs": [],
   "source": [
    "df['nct_id'].value_counts()"
   ]
  },
  {
   "cell_type": "code",
   "execution_count": null,
   "id": "5cb320b1-53a1-43ca-a373-6578b78d7974",
   "metadata": {
    "scrolled": true
   },
   "outputs": [],
   "source": [
    "count_url = 0\n",
    "for i in range(len(df['url'])):\n",
    "    count_url += 1 if df['url'][i] else 0\n",
    "print(count_url)"
   ]
  },
  {
   "cell_type": "code",
   "execution_count": null,
   "id": "9d0bd925-5e91-4ce2-8054-642920e47fb2",
   "metadata": {},
   "outputs": [],
   "source": [
    "len(df['id_info'][2].keys())"
   ]
  },
  {
   "cell_type": "code",
   "execution_count": null,
   "id": "bfb3b46c-2452-4ce8-88cd-7be4e04c2221",
   "metadata": {},
   "outputs": [],
   "source": [
    "max_keys = 0\n",
    "max_string_keys = ''\n",
    "for i in range(len(df['id_info'])):\n",
    "    if max_keys >= len(df['id_info'][i].keys()):\n",
    "        break\n",
    "    max_keys = len(df['id_info'][i].keys())\n",
    "    max_string_keys = df['id_info'][i].keys()\n",
    "print(max_keys)\n",
    "print(max_string_keys)\n",
    "\n",
    "min_keys = 100\n",
    "min_string_keys = ''\n",
    "for i in range(len(df['id_info'])):\n",
    "    if min_keys <= len(df['id_info'][i].keys()):\n",
    "        break\n",
    "    min_keys = len(df['id_info'][i].keys())\n",
    "    min_string_keys = df['id_info'][i].keys()\n",
    "print(min_keys)\n",
    "print(min_string_keys)"
   ]
  },
  {
   "cell_type": "code",
   "execution_count": null,
   "id": "67432d52-cd6f-4bb7-a2b9-0bb63708966a",
   "metadata": {},
   "outputs": [],
   "source": [
    "df['id_info'][0].keys()"
   ]
  },
  {
   "cell_type": "code",
   "execution_count": null,
   "id": "eded8c3e-2bc9-4967-9165-f567024ccf77",
   "metadata": {},
   "outputs": [],
   "source": [
    "count_nct_id = 0\n",
    "for i in range(len(df['id_info'])):\n",
    "    count_nct_id += 1 if df['id_info'][i].get('nct_id', 0) else 0\n",
    "print(count_nct_id)"
   ]
  },
  {
   "cell_type": "code",
   "execution_count": null,
   "id": "2ed23882-26b6-4b07-bdf8-faca8d17d9a1",
   "metadata": {},
   "outputs": [],
   "source": [
    "df['brief_title']"
   ]
  },
  {
   "cell_type": "code",
   "execution_count": null,
   "id": "671b0569-4f45-4b41-b582-9d01f6d67541",
   "metadata": {},
   "outputs": [],
   "source": [
    "df['brief_title'].isna().sum()"
   ]
  },
  {
   "cell_type": "code",
   "execution_count": null,
   "id": "9a43d90e-9abb-4339-b32b-c79d4cb5ea8f",
   "metadata": {},
   "outputs": [],
   "source": [
    "df['brief_summary'].isna().sum()"
   ]
  },
  {
   "cell_type": "code",
   "execution_count": null,
   "id": "d6bc43c7-4269-482f-bbd1-2099c909de37",
   "metadata": {},
   "outputs": [],
   "source": [
    "df['brief_summary'].apply(type).value_counts()"
   ]
  },
  {
   "cell_type": "code",
   "execution_count": null,
   "id": "43bb4843-db8e-464a-83b8-d9593d25acff",
   "metadata": {},
   "outputs": [],
   "source": [
    "df['brief_summary'].value_counts()[:10]"
   ]
  },
  {
   "cell_type": "code",
   "execution_count": null,
   "id": "58e6f0da-3a50-4a11-a9f5-33149bfbd845",
   "metadata": {},
   "outputs": [],
   "source": [
    "bad_indexes = df.loc[pd.isna(df[\"brief_summary\"]), :].index\n",
    "print(bad_indexes)\n",
    "print('len(bad_indexes):', len(bad_indexes))"
   ]
  },
  {
   "cell_type": "markdown",
   "id": "0b14cbdb-073e-482f-9c95-4f48ec03dafa",
   "metadata": {},
   "source": [
    "### Check word (tokens) frequency"
   ]
  },
  {
   "cell_type": "markdown",
   "id": "515afa79-37fb-47c5-9f3c-842d6f529949",
   "metadata": {},
   "source": [
    "1. Word frequency in all strings"
   ]
  },
  {
   "cell_type": "code",
   "execution_count": null,
   "id": "4c65a2be-6d46-44ae-aeda-6545c09dfe26",
   "metadata": {},
   "outputs": [],
   "source": [
    "df['brief_summary'][:10000].str.split(expand=True).stack().value_counts()[:30]"
   ]
  },
  {
   "cell_type": "code",
   "execution_count": null,
   "id": "92a1d507-1bf1-4f67-acd8-b20e1386a154",
   "metadata": {},
   "outputs": [],
   "source": [
    "df['brief_summary']"
   ]
  },
  {
   "cell_type": "markdown",
   "id": "699b3c03-ea41-491b-8ba1-dd75a901dfb8",
   "metadata": {},
   "source": [
    "2. Token frequency in all strings"
   ]
  },
  {
   "cell_type": "code",
   "execution_count": null,
   "id": "790f6c25-40c8-45c9-937b-f66db9297dd6",
   "metadata": {},
   "outputs": [],
   "source": [
    "tokenizer = None"
   ]
  },
  {
   "cell_type": "markdown",
   "id": "c5e3ea8b-c03e-4fd5-8cc7-0ee612df09ce",
   "metadata": {
    "jp-MarkdownHeadingCollapsed": true
   },
   "source": [
    "## Exploration of the XML tags"
   ]
  },
  {
   "cell_type": "code",
   "execution_count": null,
   "id": "4f4caf0a-e8e7-4a57-a0a8-f15cb9370552",
   "metadata": {},
   "outputs": [],
   "source": [
    "def get_file_names(raw_data_folder_path):\n",
    "    file_paths = []\n",
    "    for splits in os.scandir(raw_data_folder_path):\n",
    "        if splits.is_dir():\n",
    "            for nct_dir in os.scandir(splits.path):\n",
    "                for file in os.scandir(nct_dir.path):\n",
    "                    if file.is_file():\n",
    "                        file_paths.append(file.path)\n",
    "    return file_paths"
   ]
  },
  {
   "cell_type": "code",
   "execution_count": null,
   "id": "8b9167b8-e005-4686-aa44-7560e1f9cc47",
   "metadata": {},
   "outputs": [],
   "source": [
    "raw_data_folder_path = os.path.normpath(os.getcwd() + '/..' + '/data/raw/')\n",
    "raw_data_folder_path"
   ]
  },
  {
   "cell_type": "code",
   "execution_count": null,
   "id": "86a2f7d9-2700-43ed-b393-8f1ebad744fe",
   "metadata": {},
   "outputs": [],
   "source": [
    "def tag_exploration_loop_raw_numbers(raw_data_folder_path):\n",
    "    file_paths = get_file_names(raw_data_folder_path)\n",
    "    \n",
    "    nb_elems_all = []\n",
    "    max_elem_list = []\n",
    "    all_tags_list = set()\n",
    "    for file_path in tqdm(file_paths, desc='Parsing XML files to json:', disable=False, position=0, leave=True):\n",
    "        # load and parse the file\n",
    "        xml_tree = ET.parse(file_path)\n",
    "        \n",
    "        elem_list = []\n",
    "        \n",
    "        for elem in xml_tree.iter():\n",
    "            elem_list.append(elem.tag)\n",
    "        \n",
    "        # now I remove duplicities - by convertion to set and back to list\n",
    "        elem_list = list(set(elem_list))\n",
    "    \n",
    "        nb_elem = len(elem_list)\n",
    "        nb_elems_all.append(nb_elem)\n",
    "        \n",
    "        if nb_elem > len(max_elem_list):\n",
    "            max_elem_list = elem_list\n",
    "\n",
    "        for tag in elem_list:\n",
    "            if tag not in all_tags_list:\n",
    "                all_tags_list.add(tag)\n",
    "\n",
    "    return nb_elems_all, max_elem_list, all_tags_list"
   ]
  },
  {
   "cell_type": "code",
   "execution_count": null,
   "id": "c71b9532-d113-4417-b22f-479731389718",
   "metadata": {},
   "outputs": [],
   "source": [
    "result_tuple = tag_exploration_loop_raw_numbers(raw_data_folder_path)"
   ]
  },
  {
   "cell_type": "code",
   "execution_count": null,
   "id": "211a5666-793a-4a7d-81a6-0e0e71c16c65",
   "metadata": {},
   "outputs": [],
   "source": [
    "list_nb_of_elems = result_tuple[0]\n",
    "list_max_elem = result_tuple[1]\n",
    "all_possible_tags_list = result_tuple[2]"
   ]
  },
  {
   "cell_type": "code",
   "execution_count": null,
   "id": "c99f86c1-5d35-46ff-af1e-6ab4abc8d704",
   "metadata": {},
   "outputs": [],
   "source": [
    "# Statistics on the number of elems in list\n",
    "import statistics as stats\n",
    "print('Number of Clinical Trials possible:', len(list_nb_of_elems))\n",
    "print('Average number of tags in a list:', np.mean(list_nb_of_elems))\n",
    "print('std of number of tags in a list:', np.std(list_nb_of_elems))"
   ]
  },
  {
   "cell_type": "code",
   "execution_count": null,
   "id": "69449d5b-9668-46cc-88db-de75b4d4d5d1",
   "metadata": {},
   "outputs": [],
   "source": [
    "# analysis of a list with the most elements in it\n",
    "print('Number of tags in the XML file with the most tags:', len(list_max_elem))\n",
    "print('Number of possible tags in all files:', len(all_possible_tags_list))"
   ]
  },
  {
   "cell_type": "code",
   "execution_count": null,
   "id": "f6cbfe43-941c-4b06-9dbb-c86a21e7d4eb",
   "metadata": {
    "scrolled": true
   },
   "outputs": [],
   "source": [
    "# analysis of a list of all possible tags\n",
    "print(all_possible_tags_list)"
   ]
  },
  {
   "cell_type": "markdown",
   "id": "43a98990-c5de-4ab3-a737-763fcfb8040b",
   "metadata": {},
   "source": [
    "## Eligibility exploration"
   ]
  },
  {
   "cell_type": "code",
   "execution_count": null,
   "id": "1703647d-1849-4699-91d1-e6809bff1e16",
   "metadata": {},
   "outputs": [],
   "source": [
    "# new file\n",
    "filepath = os.path.normpath(os.getcwd() + '/..' + '/data/processed/data_trials0.json')\n",
    "filepath"
   ]
  },
  {
   "cell_type": "code",
   "execution_count": null,
   "id": "7c2462a7-e54a-415d-9dd1-24c545eb59d5",
   "metadata": {},
   "outputs": [],
   "source": [
    "df = pd.read_json(filepath)"
   ]
  },
  {
   "cell_type": "code",
   "execution_count": null,
   "id": "5cd1eeda-0a00-4701-bd25-8abf7ed0a6ad",
   "metadata": {},
   "outputs": [],
   "source": [
    "df.shape"
   ]
  },
  {
   "cell_type": "code",
   "execution_count": null,
   "id": "4da41087-3286-401d-9472-d2dc26ee49ac",
   "metadata": {},
   "outputs": [],
   "source": [
    "df.head()"
   ]
  },
  {
   "cell_type": "code",
   "execution_count": null,
   "id": "998f879a-cbee-4665-934c-aa5d1d79bb1f",
   "metadata": {},
   "outputs": [],
   "source": []
  },
  {
   "cell_type": "code",
   "execution_count": null,
   "id": "6cf45985-dc43-47ba-9381-23871ec8a8a5",
   "metadata": {},
   "outputs": [],
   "source": []
  },
  {
   "cell_type": "code",
   "execution_count": null,
   "id": "a0d2e79f-f295-4470-8289-bc4f1d224a28",
   "metadata": {},
   "outputs": [],
   "source": []
  },
  {
   "cell_type": "code",
   "execution_count": null,
   "id": "32956cbf-1dfa-4d01-9b56-137adfe526e7",
   "metadata": {},
   "outputs": [],
   "source": []
  }
 ],
 "metadata": {
  "kernelspec": {
   "display_name": "trec",
   "language": "python",
   "name": "trec"
  },
  "language_info": {
   "codemirror_mode": {
    "name": "ipython",
    "version": 3
   },
   "file_extension": ".py",
   "mimetype": "text/x-python",
   "name": "python",
   "nbconvert_exporter": "python",
   "pygments_lexer": "ipython3",
   "version": "3.11.4"
  }
 },
 "nbformat": 4,
 "nbformat_minor": 5
}
