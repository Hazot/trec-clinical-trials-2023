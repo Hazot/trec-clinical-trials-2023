{
 "cells": [
  {
   "cell_type": "code",
   "execution_count": 2,
   "id": "e489253e-cb5b-4c65-a742-c267044cb87d",
   "metadata": {},
   "outputs": [],
   "source": [
    "import json\n",
    "import logging\n",
    "import xml.etree.ElementTree as ET\n",
    "import os\n",
    "import pandas as pd\n",
    "import numpy as np\n",
    "from tqdm import tqdm"
   ]
  },
  {
   "cell_type": "markdown",
   "id": "400ffb9b-4006-4d7f-97fa-0fe941205f13",
   "metadata": {},
   "source": [
    "## Data exporation from json file for only sum of the main XML tags"
   ]
  },
  {
   "cell_type": "code",
   "execution_count": 4,
   "id": "f8e165ce-46b4-4cb6-b351-e1b57f878309",
   "metadata": {},
   "outputs": [
    {
     "data": {
      "text/plain": [
       "'/home/hazot/code/trec-clinical-trials-2023/data/processed/data.json'"
      ]
     },
     "execution_count": 4,
     "metadata": {},
     "output_type": "execute_result"
    }
   ],
   "source": [
    "filepath = os.path.normpath(os.getcwd() + '/..' + '/data/processed/data.json')\n",
    "filepath"
   ]
  },
  {
   "cell_type": "code",
   "execution_count": 5,
   "id": "eb18923d-4356-4471-8686-994ac13afa4e",
   "metadata": {},
   "outputs": [],
   "source": [
    "df = pd.read_json(filepath)"
   ]
  },
  {
   "cell_type": "code",
   "execution_count": null,
   "id": "7b3ecfe0-e8de-4d21-a875-aaa09c1538d4",
   "metadata": {},
   "outputs": [],
   "source": [
    "#TODO: try to explain each results here in text"
   ]
  },
  {
   "cell_type": "code",
   "execution_count": 6,
   "id": "7638a2e4-0c9b-44c2-b96d-17c2df9763a0",
   "metadata": {},
   "outputs": [
    {
     "name": "stdout",
     "output_type": "stream",
     "text": [
      "(451538, 17)\n",
      "Index(['nct_id', 'link_text', 'url', 'id_info', 'brief_title', 'sponsors',\n",
      "       'brief_summary', 'detailed_description', 'primary_purpose',\n",
      "       'intervention', 'eligibility', 'gender', 'minimum_age', 'maximum_age',\n",
      "       'healthy_volunteers', 'keyword', 'condition_browse'],\n",
      "      dtype='object')\n"
     ]
    }
   ],
   "source": [
    "print(df.shape)\n",
    "print(df.columns)"
   ]
  },
  {
   "cell_type": "code",
   "execution_count": 7,
   "id": "9b92e64e-16eb-470f-bbef-8b632979161f",
   "metadata": {},
   "outputs": [
    {
     "name": "stdout",
     "output_type": "stream",
     "text": [
      "Sum of column: 450667\n",
      "-----------\n",
      "gender\n",
      "All       387617\n",
      "Female     43441\n",
      "Male       19609\n",
      "Name: count, dtype: int64\n"
     ]
    }
   ],
   "source": [
    "print(\"Sum of column:\", np.sum(list(df['gender'].value_counts())))\n",
    "print('-----------')\n",
    "print(df['gender'].value_counts())"
   ]
  },
  {
   "cell_type": "code",
   "execution_count": 8,
   "id": "213f2386-d9dd-41ca-ab30-998acb60175b",
   "metadata": {},
   "outputs": [
    {
     "name": "stdout",
     "output_type": "stream",
     "text": [
      "Sum of column: 450667\n",
      "-----------\n",
      "minimum_age\n",
      "18 Years     279575\n",
      "N/A           30526\n",
      "20 Years      17938\n",
      "40 Years       9334\n",
      "21 Years       9238\n",
      "              ...  \n",
      "84 Days           1\n",
      "118 Years         1\n",
      "73 Hours          1\n",
      "167 Days          1\n",
      "23 Days           1\n",
      "Name: count, Length: 318, dtype: int64\n"
     ]
    }
   ],
   "source": [
    "print(\"Sum of column:\", np.sum(list(df['minimum_age'].value_counts())))\n",
    "print('-----------')\n",
    "print(df['minimum_age'].value_counts())"
   ]
  },
  {
   "cell_type": "code",
   "execution_count": 48,
   "id": "299287ac-b22b-4951-99db-2301ad13756c",
   "metadata": {},
   "outputs": [
    {
     "data": {
      "text/plain": [
       "30526"
      ]
     },
     "execution_count": 48,
     "metadata": {},
     "output_type": "execute_result"
    }
   ],
   "source": [
    "# Full list of possibilities\n",
    "dict(df['minimum_age'].value_counts())['N/A']"
   ]
  },
  {
   "cell_type": "code",
   "execution_count": 9,
   "id": "badbd047-ecad-4fb1-9486-a953fac13e2f",
   "metadata": {},
   "outputs": [
    {
     "name": "stdout",
     "output_type": "stream",
     "text": [
      "Sum of column: 450667\n",
      "-----------\n",
      "maximum_age\n",
      "N/A           214375\n",
      "65 Years       29033\n",
      "80 Years       23198\n",
      "75 Years       22838\n",
      "70 Years       18586\n",
      "               ...  \n",
      "54 Days            1\n",
      "263 Months         1\n",
      "93 Days            1\n",
      "26 Hours           1\n",
      "37 Days            1\n",
      "Name: count, Length: 473, dtype: int64\n"
     ]
    }
   ],
   "source": [
    "print(\"Sum of column:\", np.sum(list(df['maximum_age'].value_counts())))\n",
    "print('-----------')\n",
    "print(df['maximum_age'].value_counts())"
   ]
  },
  {
   "cell_type": "code",
   "execution_count": 10,
   "id": "1ca8b60b-98b4-4b1a-a90e-4eb765d4fbac",
   "metadata": {},
   "outputs": [
    {
     "name": "stdout",
     "output_type": "stream",
     "text": [
      "Sum of column: 440292\n",
      "-----------\n",
      "healthy_volunteers\n",
      "No                            322154\n",
      "Accepts Healthy Volunteers    118138\n",
      "Name: count, dtype: int64\n"
     ]
    }
   ],
   "source": [
    "print(\"Sum of column:\", np.sum(list(df['healthy_volunteers'].value_counts())))\n",
    "print('-----------')\n",
    "print(df['healthy_volunteers'].value_counts())"
   ]
  },
  {
   "cell_type": "markdown",
   "id": "e32c12c0-279d-4e1d-af6a-87e870dbad2f",
   "metadata": {},
   "source": [
    "### More complicated cases (more subtags, more intricate dicts)"
   ]
  },
  {
   "cell_type": "code",
   "execution_count": 11,
   "id": "58f37495-179b-4584-9a9f-b17928062f16",
   "metadata": {},
   "outputs": [
    {
     "data": {
      "text/plain": [
       "[{'intervention_type': 'Biological',\n",
       "  'intervention_name': 'V930',\n",
       "  'description': 'V930 Over a 94 week duration, patients will receive a series of 5 injections (2.5 mg/injection), one every other week. Within 2 minutes of each injection of V930, each patient will be given an EP-IM injection consisting of two 60 msec pulses.',\n",
       "  'arm_group_label': '1'},\n",
       " {'intervention_type': 'Biological',\n",
       "  'intervention_name': 'V932',\n",
       "  'description': 'V932 Over a 94 week duration, patients will receive a series of 5 injections, 6 patients will initially received intramuscular V932 vaccinations at a low dose (0.5x109 vg/injection),and following a safety assessment, up to an additional 35 patients will be treated with the high dose V932 (0.5x1011 vg/injection).',\n",
       "  'arm_group_label': '2'}]"
      ]
     },
     "execution_count": 11,
     "metadata": {},
     "output_type": "execute_result"
    }
   ],
   "source": [
    "df['intervention'][0]"
   ]
  },
  {
   "cell_type": "code",
   "execution_count": 12,
   "id": "3b898fed-9732-48ce-b733-1dae7c5708b7",
   "metadata": {},
   "outputs": [
    {
     "data": {
      "text/plain": [
       "dict_keys(['criteria', 'gender', 'minimum_age', 'maximum_age', 'healthy_volunteers'])"
      ]
     },
     "execution_count": 12,
     "metadata": {},
     "output_type": "execute_result"
    }
   ],
   "source": [
    "df['eligibility'][0].keys()"
   ]
  },
  {
   "cell_type": "code",
   "execution_count": 43,
   "id": "3e57d556-45e2-407d-8cf7-738391218f7b",
   "metadata": {},
   "outputs": [
    {
     "data": {
      "text/plain": [
       "(('criteria',\n",
       "  'Inclusion Criteria Patients must have completed surgical treatment for his/her primary disease at least 1 month prior to enrollment Patient must not be pregnant 3 days prior to enrollment Exclusion Criteria Patient is currently participating or has participated in a study with an investigational compound or device within 30 days of signing informed consent Patient has had their spleen removed or has a history of autoimmune disorders Patient is a regular user of any illicit drugs or has used within the past year of drug or alcohol abuse Patient is pregnant or breastfeeding or is expecting to conceive anytime following the study Patient is known to be Human Immunodeficiency Virus (HIV)-seropositive Patient has a known history of Hepatitis B or C Patient has received a vaccine for any disease or condition within one month of enrollment Patient has a primary central nervous system tumor.'),\n",
       " ('gender', 'All'),\n",
       " ('minimum_age', '18 Years'),\n",
       " ('maximum_age', 'N/A'),\n",
       " ('healthy_volunteers', 'No'))"
      ]
     },
     "execution_count": 43,
     "metadata": {},
     "output_type": "execute_result"
    }
   ],
   "source": [
    "tuple(df['eligibility'][0].items())"
   ]
  },
  {
   "cell_type": "code",
   "execution_count": 71,
   "id": "034c4b80-b73c-4012-9124-f2c9260371fb",
   "metadata": {},
   "outputs": [
    {
     "name": "stderr",
     "output_type": "stream",
     "text": [
      "Calculations...: 100%|███████████████████████████████████████████████████████████████████████████████████| 451538/451538 [00:02<00:00, 153367.99it/s]\n"
     ]
    }
   ],
   "source": [
    "all_possible_tags = {}\n",
    "\n",
    "for i in tqdm(range(df.shape[0]), desc='Calculations...', disable=False, position=0, leave=True):\n",
    "    if df['eligibility'][i] is None:\n",
    "        continue\n",
    "    for key in tuple(df['eligibility'][i].keys()):\n",
    "        if key not in all_possible_tags:\n",
    "            all_possible_tags[key] = 1\n",
    "        else:\n",
    "            all_possible_tags[key] += 1"
   ]
  },
  {
   "cell_type": "code",
   "execution_count": 72,
   "id": "5593dcfe-5324-4b0c-bf32-8764c0d08ab0",
   "metadata": {},
   "outputs": [
    {
     "data": {
      "text/plain": [
       "{'criteria': 450592,\n",
       " 'gender': 450667,\n",
       " 'minimum_age': 450667,\n",
       " 'maximum_age': 450667,\n",
       " 'healthy_volunteers': 440292,\n",
       " 'study_pop': 97558,\n",
       " 'sampling_method': 97571,\n",
       " 'gender_based': 11223,\n",
       " 'gender_description': 7486}"
      ]
     },
     "execution_count": 72,
     "metadata": {},
     "output_type": "execute_result"
    }
   ],
   "source": [
    "all_possible_tags"
   ]
  },
  {
   "cell_type": "code",
   "execution_count": 73,
   "id": "060d0f52-a667-428f-9475-b1967fb74067",
   "metadata": {},
   "outputs": [
    {
     "name": "stderr",
     "output_type": "stream",
     "text": [
      "Calculations...: 100%|███████████████████████████████████████████████████████████████████████████████████| 451538/451538 [00:02<00:00, 182614.13it/s]\n"
     ]
    }
   ],
   "source": [
    "all_possible_values = {}\n",
    "\n",
    "for i in tqdm(range(df.shape[0]), desc='Calculations...', disable=False, position=0, leave=True):\n",
    "    if df['eligibility'][i] is None:\n",
    "        continue\n",
    "    value = df['eligibility'][i].get('sampling_method')\n",
    "    if value is None:\n",
    "        continue\n",
    "    if value not in all_possible_values:\n",
    "        all_possible_values[value] = 1\n",
    "    else:\n",
    "        all_possible_values[value] += 1\n",
    "    "
   ]
  },
  {
   "cell_type": "code",
   "execution_count": 74,
   "id": "a239652c-ddc5-4282-8a48-444a27a789cb",
   "metadata": {},
   "outputs": [
    {
     "data": {
      "text/plain": [
       "{'Non-Probability Sample': 70217, 'Probability Sample': 27354}"
      ]
     },
     "execution_count": 74,
     "metadata": {},
     "output_type": "execute_result"
    }
   ],
   "source": [
    "all_possible_values"
   ]
  },
  {
   "cell_type": "code",
   "execution_count": 13,
   "id": "79139da5-b8c3-43db-a920-c7080f139124",
   "metadata": {},
   "outputs": [
    {
     "data": {
      "text/plain": [
       "0                  Cancers expressing HER-2 and/or CEA\n",
       "1                                                 None\n",
       "2    [dexmedetomidine, midazolam, remifentanil, Ele...\n",
       "3                                                 None\n",
       "4    [adenocarcinoma of the colon, stage I colon ca...\n",
       "5                                                 None\n",
       "6                                                 None\n",
       "7                                                 None\n",
       "8    [ADHD, ADD, Attention Deficit Hyperactivity Di...\n",
       "9     [wound healing, phototoxicity, Healthy Subjects]\n",
       "Name: keyword, dtype: object"
      ]
     },
     "execution_count": 13,
     "metadata": {},
     "output_type": "execute_result"
    }
   ],
   "source": [
    "df['keyword'][:10]"
   ]
  },
  {
   "cell_type": "code",
   "execution_count": 14,
   "id": "8770cfea-e9c4-4563-b2b0-666b4f0e4857",
   "metadata": {},
   "outputs": [
    {
     "data": {
      "text/plain": [
       "0                                                 None\n",
       "1                                                 None\n",
       "2                                                 None\n",
       "3    {'mesh_term': 'Attention Deficit Disorder with...\n",
       "4                   {'mesh_term': 'Colonic Neoplasms'}\n",
       "5            {'mesh_term': 'Constriction, Pathologic'}\n",
       "6                        {'mesh_term': 'Otitis Media'}\n",
       "7                                                 None\n",
       "8                                                 None\n",
       "9                                                 None\n",
       "Name: condition_browse, dtype: object"
      ]
     },
     "execution_count": 14,
     "metadata": {},
     "output_type": "execute_result"
    }
   ],
   "source": [
    "df['condition_browse'][:10]"
   ]
  },
  {
   "cell_type": "markdown",
   "id": "988e6c69-3cbf-4072-9774-84d34a8920e1",
   "metadata": {},
   "source": [
    "### Less complicated cases (less subtags)"
   ]
  },
  {
   "cell_type": "code",
   "execution_count": 75,
   "id": "89945b8b-3686-4787-850c-e0f72c69e4b5",
   "metadata": {},
   "outputs": [
    {
     "data": {
      "text/plain": [
       "primary_purpose\n",
       "Treatment                          224409\n",
       "Prevention                          37354\n",
       "Other                               17257\n",
       "Supportive Care                     17069\n",
       "Basic Science                       16628\n",
       "Diagnostic                          15376\n",
       "Health Services Research             8414\n",
       "Screening                            2988\n",
       "Device Feasibility                   1075\n",
       "Educational/Counseling/Training       186\n",
       "Name: count, dtype: int64"
      ]
     },
     "execution_count": 75,
     "metadata": {},
     "output_type": "execute_result"
    }
   ],
   "source": [
    "df['primary_purpose'].value_counts()"
   ]
  },
  {
   "cell_type": "code",
   "execution_count": 76,
   "id": "be33807d-5d0c-4b86-9ac0-80e5c1112357",
   "metadata": {},
   "outputs": [
    {
     "data": {
      "text/plain": [
       "nct_id\n",
       "NCT00647114    1\n",
       "NCT04235829    1\n",
       "NCT04232995    1\n",
       "NCT04239365    1\n",
       "NCT04237597    1\n",
       "              ..\n",
       "NCT02748460    1\n",
       "NCT02749500    1\n",
       "NCT02741791    1\n",
       "NCT02741024    1\n",
       "NCT03052816    1\n",
       "Name: count, Length: 451538, dtype: int64"
      ]
     },
     "execution_count": 76,
     "metadata": {},
     "output_type": "execute_result"
    }
   ],
   "source": [
    "df['nct_id'].value_counts()"
   ]
  },
  {
   "cell_type": "code",
   "execution_count": 77,
   "id": "5cb320b1-53a1-43ca-a373-6578b78d7974",
   "metadata": {
    "scrolled": true
   },
   "outputs": [
    {
     "name": "stdout",
     "output_type": "stream",
     "text": [
      "451538\n"
     ]
    }
   ],
   "source": [
    "count_url = 0\n",
    "for i in range(len(df['url'])):\n",
    "    count_url += 1 if df['url'][i] else 0\n",
    "print(count_url)"
   ]
  },
  {
   "cell_type": "code",
   "execution_count": 78,
   "id": "9d0bd925-5e91-4ce2-8054-642920e47fb2",
   "metadata": {},
   "outputs": [
    {
     "data": {
      "text/plain": [
       "2"
      ]
     },
     "execution_count": 78,
     "metadata": {},
     "output_type": "execute_result"
    }
   ],
   "source": [
    "len(df['id_info'][2].keys())"
   ]
  },
  {
   "cell_type": "code",
   "execution_count": 79,
   "id": "bfb3b46c-2452-4ce8-88cd-7be4e04c2221",
   "metadata": {},
   "outputs": [
    {
     "name": "stdout",
     "output_type": "stream",
     "text": [
      "3\n",
      "dict_keys(['org_study_id', 'secondary_id', 'nct_id'])\n",
      "2\n",
      "dict_keys(['org_study_id', 'nct_id'])\n"
     ]
    }
   ],
   "source": [
    "max_keys = 0\n",
    "max_string_keys = ''\n",
    "for i in range(len(df['id_info'])):\n",
    "    if max_keys >= len(df['id_info'][i].keys()):\n",
    "        break\n",
    "    max_keys = len(df['id_info'][i].keys())\n",
    "    max_string_keys = df['id_info'][i].keys()\n",
    "print(max_keys)\n",
    "print(max_string_keys)\n",
    "\n",
    "min_keys = 100\n",
    "min_string_keys = ''\n",
    "for i in range(len(df['id_info'])):\n",
    "    if min_keys <= len(df['id_info'][i].keys()):\n",
    "        break\n",
    "    min_keys = len(df['id_info'][i].keys())\n",
    "    min_string_keys = df['id_info'][i].keys()\n",
    "print(min_keys)\n",
    "print(min_string_keys)"
   ]
  },
  {
   "cell_type": "code",
   "execution_count": 80,
   "id": "67432d52-cd6f-4bb7-a2b9-0bb63708966a",
   "metadata": {},
   "outputs": [
    {
     "data": {
      "text/plain": [
       "dict_keys(['org_study_id', 'secondary_id', 'nct_id'])"
      ]
     },
     "execution_count": 80,
     "metadata": {},
     "output_type": "execute_result"
    }
   ],
   "source": [
    "df['id_info'][0].keys()"
   ]
  },
  {
   "cell_type": "code",
   "execution_count": 81,
   "id": "eded8c3e-2bc9-4967-9165-f567024ccf77",
   "metadata": {},
   "outputs": [
    {
     "name": "stdout",
     "output_type": "stream",
     "text": [
      "451538\n"
     ]
    }
   ],
   "source": [
    "count_nct_id = 0\n",
    "for i in range(len(df['id_info'])):\n",
    "    count_nct_id += 1 if df['id_info'][i].get('nct_id', 0) else 0\n",
    "print(count_nct_id)"
   ]
  },
  {
   "cell_type": "code",
   "execution_count": 82,
   "id": "2ed23882-26b6-4b07-bdf8-faca8d17d9a1",
   "metadata": {},
   "outputs": [
    {
     "data": {
      "text/plain": [
       "0         A Study to Test V930/V932 in Patients With Can...\n",
       "1         Fed Study of Benazepril HCl and Hydrochlorothi...\n",
       "2         Effects of Two Different Sedation Regimes on A...\n",
       "3         Safety, Tolerability and Efficacy Study of ABT...\n",
       "4         Fluorouracil and Oxaliplatin With or Without P...\n",
       "                                ...                        \n",
       "451533    Evaluating 18F-FDG PET/CT With Liver SUVmax-ba...\n",
       "451534    Imaging of in Vivo Sigma-2 Receptor Expression...\n",
       "451535    Evaluation of the Efficacy Safety and Tolerabi...\n",
       "451536          Resistant Starch, Gut Bacteria and Diabetes\n",
       "451537    Ice T Postoperative Multimodal Pain Regimen in...\n",
       "Name: brief_title, Length: 451538, dtype: object"
      ]
     },
     "execution_count": 82,
     "metadata": {},
     "output_type": "execute_result"
    }
   ],
   "source": [
    "df['brief_title']"
   ]
  },
  {
   "cell_type": "code",
   "execution_count": 83,
   "id": "671b0569-4f45-4b41-b582-9d01f6d67541",
   "metadata": {},
   "outputs": [
    {
     "data": {
      "text/plain": [
       "0"
      ]
     },
     "execution_count": 83,
     "metadata": {},
     "output_type": "execute_result"
    }
   ],
   "source": [
    "df['brief_title'].isna().sum()"
   ]
  },
  {
   "cell_type": "code",
   "execution_count": 84,
   "id": "9a43d90e-9abb-4339-b32b-c79d4cb5ea8f",
   "metadata": {},
   "outputs": [
    {
     "data": {
      "text/plain": [
       "841"
      ]
     },
     "execution_count": 84,
     "metadata": {},
     "output_type": "execute_result"
    }
   ],
   "source": [
    "df['brief_summary'].isna().sum()"
   ]
  },
  {
   "cell_type": "code",
   "execution_count": 85,
   "id": "d6bc43c7-4269-482f-bbd1-2099c909de37",
   "metadata": {},
   "outputs": [
    {
     "data": {
      "text/plain": [
       "brief_summary\n",
       "<class 'str'>         450697\n",
       "<class 'NoneType'>       841\n",
       "Name: count, dtype: int64"
      ]
     },
     "execution_count": 85,
     "metadata": {},
     "output_type": "execute_result"
    }
   ],
   "source": [
    "df['brief_summary'].apply(type).value_counts()"
   ]
  },
  {
   "cell_type": "code",
   "execution_count": 86,
   "id": "43bb4843-db8e-464a-83b8-d9593d25acff",
   "metadata": {},
   "outputs": [
    {
     "data": {
      "text/plain": [
       "brief_summary\n",
       "To evaluate the Sun Protection Factor efficacy on human skin.                                                                                                                                                                                                                                                                        49\n",
       "Investigators are building an empirical evidence base for real world data through large-scale replication of randomized controlled trials. The investigators' goal is to understand for what types of clinical questions real world data analyses can be conducted with confidence and how to implement such studies.                35\n",
       "This study aims to evaluate the comparative risk of dementia/Alzheimer's disease onset between patients treated with medications that target specific metabolic pathways and patients treated with alternative medications for the same indication.                                                                                  14\n",
       "This study seeks to correlate microbiome sequencing data with information provided by patients and their medical records.                                                                                                                                                                                                            14\n",
       "The objective of this surveillance is to collect information about 1) adverse drug reaction not expected from the LPD (unknown adverse drug reaction), 2) the incidence of adverse drug reactions in this surveillance, and 3)factors considered to affect the safety and/or efficacy of this drug.                                  13\n",
       "This is an open label, randomised, balanced, two-treatment, two-period, two-sequence, single dose, crossover, oral bioequivalence study.                                                                                                                                                                                             10\n",
       "Bioequivalence study between two inhaler products of fixed dose combination of fluticasone propionate and salmeterol xinafoate inhalation powder                                                                                                                                                                                     10\n",
       "TQB2450 is a humanized monoclonal antibody targeting programmed death ligand-1 (PD-L1), which prevents PD-L1 from binding to PD-1 and B7.1 receptors on T cell surface, restores T cell activity, thus enhancing immune response and has potential to treat various types of tumors.                                                  6\n",
       "The purpose of this study is to evaluate the safeness and effectiveness of mix vaccine (MV). Enrolled patients will receive standard treatment according to National Comprehensive Cancer Network (NCCN) guide line with or without combining MV injection. The efficacy and side effect will be compared between the two groups.     5\n",
       "The objective is to investigate the Clinical, Radiographic, Roentgen Stereophotogrammetric behaviour and patient outcome when using the Triathlon total knee prosthesis in a prospective randomized clinical trial.                                                                                                                   5\n",
       "Name: count, dtype: int64"
      ]
     },
     "execution_count": 86,
     "metadata": {},
     "output_type": "execute_result"
    }
   ],
   "source": [
    "df['brief_summary'].value_counts()[:10]"
   ]
  },
  {
   "cell_type": "code",
   "execution_count": 87,
   "id": "58e6f0da-3a50-4a11-a9f5-33149bfbd845",
   "metadata": {},
   "outputs": [
    {
     "name": "stdout",
     "output_type": "stream",
     "text": [
      "Index([   854,    936,    977,   2962,   3354,   3359,   4953,   5235,   5307,\n",
      "         5517,\n",
      "       ...\n",
      "       441722, 442341, 443174, 444716, 445616, 447390, 448477, 449224, 449228,\n",
      "       449655],\n",
      "      dtype='int64', length=841)\n",
      "len(bad_indexes): 841\n"
     ]
    }
   ],
   "source": [
    "bad_indexes = df.loc[pd.isna(df[\"brief_summary\"]), :].index\n",
    "print(bad_indexes)\n",
    "print('len(bad_indexes):', len(bad_indexes))"
   ]
  },
  {
   "cell_type": "code",
   "execution_count": null,
   "id": "927f55cb-31d3-4f61-9d97-62a7c20a6364",
   "metadata": {},
   "outputs": [],
   "source": []
  },
  {
   "cell_type": "markdown",
   "id": "0b14cbdb-073e-482f-9c95-4f48ec03dafa",
   "metadata": {},
   "source": [
    "### Check word (tokens) frequency"
   ]
  },
  {
   "cell_type": "markdown",
   "id": "515afa79-37fb-47c5-9f3c-842d6f529949",
   "metadata": {},
   "source": [
    "1. Word frequency in all strings"
   ]
  },
  {
   "cell_type": "code",
   "execution_count": 88,
   "id": "4c65a2be-6d46-44ae-aeda-6545c09dfe26",
   "metadata": {},
   "outputs": [
    {
     "data": {
      "text/plain": [
       "the          37181\n",
       "of           35599\n",
       "and          25735\n",
       "to           24576\n",
       "in           20003\n",
       "a            13574\n",
       "is           13541\n",
       "with         12917\n",
       "will          9869\n",
       "study         9650\n",
       "The           8380\n",
       "for           8205\n",
       "or            7030\n",
       "be            7026\n",
       "patients      6955\n",
       "this          6022\n",
       "that          4916\n",
       "are           4429\n",
       "This          4273\n",
       "as            4032\n",
       "by            3847\n",
       "treatment     3830\n",
       "on            3829\n",
       "may           3696\n",
       "have          3683\n",
       "an            2986\n",
       "at            2926\n",
       "who           2866\n",
       "from          2823\n",
       "blood         2718\n",
       "Name: count, dtype: int64"
      ]
     },
     "execution_count": 88,
     "metadata": {},
     "output_type": "execute_result"
    }
   ],
   "source": [
    "df['brief_summary'][:10000].str.split(expand=True).stack().value_counts()[:30]"
   ]
  },
  {
   "cell_type": "code",
   "execution_count": 89,
   "id": "92a1d507-1bf1-4f67-acd8-b20e1386a154",
   "metadata": {},
   "outputs": [
    {
     "data": {
      "text/plain": [
       "0         Treatment of patients with cancer types known ...\n",
       "1         The objective of this study was to investigate...\n",
       "2         Sedation may be necessary in intensive care to...\n",
       "3         The purpose of this study is to test if the in...\n",
       "4         RATIONALE Drugs used in chemotherapy, such as ...\n",
       "                                ...                        \n",
       "451533    The purpose of this study is to evaluate wheth...\n",
       "451534    Pilot study using [18F]ISO-1 PET/CT to image s...\n",
       "451535    Double blind, randomized multi-center, evaluat...\n",
       "451536    The aim of the study is to investigate, if res...\n",
       "451537    The purpose of this randomized controlled tria...\n",
       "Name: brief_summary, Length: 451538, dtype: object"
      ]
     },
     "execution_count": 89,
     "metadata": {},
     "output_type": "execute_result"
    }
   ],
   "source": [
    "df['brief_summary']"
   ]
  },
  {
   "cell_type": "markdown",
   "id": "699b3c03-ea41-491b-8ba1-dd75a901dfb8",
   "metadata": {},
   "source": [
    "2. Token frequency in all strings"
   ]
  },
  {
   "cell_type": "code",
   "execution_count": 90,
   "id": "790f6c25-40c8-45c9-937b-f66db9297dd6",
   "metadata": {},
   "outputs": [],
   "source": [
    "tokenizer = None"
   ]
  },
  {
   "cell_type": "markdown",
   "id": "c5e3ea8b-c03e-4fd5-8cc7-0ee612df09ce",
   "metadata": {
    "jp-MarkdownHeadingCollapsed": true
   },
   "source": [
    "## Exploration of the XML tags"
   ]
  },
  {
   "cell_type": "code",
   "execution_count": null,
   "id": "4f4caf0a-e8e7-4a57-a0a8-f15cb9370552",
   "metadata": {},
   "outputs": [],
   "source": [
    "def get_file_names(raw_data_folder_path):\n",
    "    file_paths = []\n",
    "    for splits in os.scandir(raw_data_folder_path):\n",
    "        if splits.is_dir():\n",
    "            for nct_dir in os.scandir(splits.path):\n",
    "                for file in os.scandir(nct_dir.path):\n",
    "                    if file.is_file():\n",
    "                        file_paths.append(file.path)\n",
    "    return file_paths"
   ]
  },
  {
   "cell_type": "code",
   "execution_count": null,
   "id": "8b9167b8-e005-4686-aa44-7560e1f9cc47",
   "metadata": {},
   "outputs": [],
   "source": [
    "raw_data_folder_path = os.path.normpath(os.getcwd() + '/..' + '/data/raw/')\n",
    "raw_data_folder_path"
   ]
  },
  {
   "cell_type": "code",
   "execution_count": null,
   "id": "86a2f7d9-2700-43ed-b393-8f1ebad744fe",
   "metadata": {},
   "outputs": [],
   "source": [
    "def tag_exploration_loop_raw_numbers(raw_data_folder_path):\n",
    "    file_paths = get_file_names(raw_data_folder_path)\n",
    "    \n",
    "    nb_elems_all = []\n",
    "    max_elem_list = []\n",
    "    all_tags_list = set()\n",
    "    for file_path in tqdm(file_paths, desc='Parsing XML files to json:', disable=False, position=0, leave=True):\n",
    "        # load and parse the file\n",
    "        xml_tree = ET.parse(file_path)\n",
    "        \n",
    "        elem_list = []\n",
    "        \n",
    "        for elem in xml_tree.iter():\n",
    "            elem_list.append(elem.tag)\n",
    "        \n",
    "        # now I remove duplicities - by convertion to set and back to list\n",
    "        elem_list = list(set(elem_list))\n",
    "    \n",
    "        nb_elem = len(elem_list)\n",
    "        nb_elems_all.append(nb_elem)\n",
    "        \n",
    "        if nb_elem > len(max_elem_list):\n",
    "            max_elem_list = elem_list\n",
    "\n",
    "        for tag in elem_list:\n",
    "            if tag not in all_tags_list:\n",
    "                all_tags_list.add(tag)\n",
    "\n",
    "    return nb_elems_all, max_elem_list, all_tags_list"
   ]
  },
  {
   "cell_type": "code",
   "execution_count": null,
   "id": "c71b9532-d113-4417-b22f-479731389718",
   "metadata": {},
   "outputs": [],
   "source": [
    "result_tuple = tag_exploration_loop_raw_numbers(raw_data_folder_path)"
   ]
  },
  {
   "cell_type": "code",
   "execution_count": null,
   "id": "211a5666-793a-4a7d-81a6-0e0e71c16c65",
   "metadata": {},
   "outputs": [],
   "source": [
    "list_nb_of_elems = result_tuple[0]\n",
    "list_max_elem = result_tuple[1]\n",
    "all_possible_tags_list = result_tuple[2]"
   ]
  },
  {
   "cell_type": "code",
   "execution_count": null,
   "id": "c99f86c1-5d35-46ff-af1e-6ab4abc8d704",
   "metadata": {},
   "outputs": [],
   "source": [
    "# Statistics on the number of elems in list\n",
    "import statistics as stats\n",
    "print('Number of Clinical Trials possible:', len(list_nb_of_elems))\n",
    "print('Average number of tags in a list:', np.mean(list_nb_of_elems))\n",
    "print('std of number of tags in a list:', np.std(list_nb_of_elems))"
   ]
  },
  {
   "cell_type": "code",
   "execution_count": null,
   "id": "69449d5b-9668-46cc-88db-de75b4d4d5d1",
   "metadata": {},
   "outputs": [],
   "source": [
    "# analysis of a list with the most elements in it\n",
    "print('Number of tags in the XML file with the most tags:', len(list_max_elem))\n",
    "print('Number of possible tags in all files:', len(all_possible_tags_list))"
   ]
  },
  {
   "cell_type": "code",
   "execution_count": null,
   "id": "f6cbfe43-941c-4b06-9dbb-c86a21e7d4eb",
   "metadata": {
    "scrolled": true
   },
   "outputs": [],
   "source": [
    "# analysis of a list of all possible tags\n",
    "print(all_possible_tags_list)"
   ]
  },
  {
   "cell_type": "code",
   "execution_count": null,
   "id": "fb81c243-e7e3-42aa-96e7-7b435dbe8a3c",
   "metadata": {},
   "outputs": [],
   "source": []
  }
 ],
 "metadata": {
  "kernelspec": {
   "display_name": "trec",
   "language": "python",
   "name": "trec"
  },
  "language_info": {
   "codemirror_mode": {
    "name": "ipython",
    "version": 3
   },
   "file_extension": ".py",
   "mimetype": "text/x-python",
   "name": "python",
   "nbconvert_exporter": "python",
   "pygments_lexer": "ipython3",
   "version": "3.11.4"
  }
 },
 "nbformat": 4,
 "nbformat_minor": 5
}
