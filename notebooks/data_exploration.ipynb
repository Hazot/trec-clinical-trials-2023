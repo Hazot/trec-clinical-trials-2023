{
 "cells": [
  {
   "cell_type": "code",
   "execution_count": 1,
   "id": "e489253e-cb5b-4c65-a742-c267044cb87d",
   "metadata": {},
   "outputs": [],
   "source": [
    "import json\n",
    "import logging\n",
    "import xml.etree.ElementTree as ET\n",
    "import os\n",
    "import pandas as pd\n",
    "import numpy as np\n",
    "from tqdm import tqdm"
   ]
  },
  {
   "cell_type": "code",
   "execution_count": 2,
   "id": "f8e165ce-46b4-4cb6-b351-e1b57f878309",
   "metadata": {},
   "outputs": [
    {
     "data": {
      "text/plain": [
       "'/home/hazot/code/trec-clinical-trials-2023/data/processed/data.json'"
      ]
     },
     "execution_count": 2,
     "metadata": {},
     "output_type": "execute_result"
    }
   ],
   "source": [
    "filepath = os.path.normpath(os.getcwd() + '/..' + '/data/processed/data.json')\n",
    "filepath"
   ]
  },
  {
   "cell_type": "code",
   "execution_count": 3,
   "id": "eb18923d-4356-4471-8686-994ac13afa4e",
   "metadata": {},
   "outputs": [],
   "source": [
    "df = pd.read_json(filepath)"
   ]
  },
  {
   "cell_type": "code",
   "execution_count": 4,
   "id": "7638a2e4-0c9b-44c2-b96d-17c2df9763a0",
   "metadata": {},
   "outputs": [
    {
     "name": "stdout",
     "output_type": "stream",
     "text": [
      "(451538, 17)\n",
      "Index(['nct_id', 'link_text', 'url', 'id_info', 'brief_title', 'sponsors',\n",
      "       'brief_summary', 'detailed_description', 'primary_purpose',\n",
      "       'intervention', 'eligibility', 'gender', 'minimum_age', 'maximum_age',\n",
      "       'healthy_volunteers', 'keyword', 'condition_browse'],\n",
      "      dtype='object')\n"
     ]
    }
   ],
   "source": [
    "print(df.shape)\n",
    "print(df.columns)"
   ]
  },
  {
   "cell_type": "code",
   "execution_count": 7,
   "id": "9b92e64e-16eb-470f-bbef-8b632979161f",
   "metadata": {},
   "outputs": [
    {
     "data": {
      "text/plain": [
       "gender\n",
       "All       387617\n",
       "Female     43441\n",
       "Male       19609\n",
       "Name: count, dtype: int64"
      ]
     },
     "execution_count": 7,
     "metadata": {},
     "output_type": "execute_result"
    }
   ],
   "source": [
    "df['gender'].value_counts()"
   ]
  },
  {
   "cell_type": "code",
   "execution_count": 8,
   "id": "213f2386-d9dd-41ca-ab30-998acb60175b",
   "metadata": {},
   "outputs": [
    {
     "data": {
      "text/plain": [
       "minimum_age\n",
       "18 Years     279575\n",
       "N/A           30526\n",
       "20 Years      17938\n",
       "40 Years       9334\n",
       "21 Years       9238\n",
       "              ...  \n",
       "84 Days           1\n",
       "118 Years         1\n",
       "73 Hours          1\n",
       "167 Days          1\n",
       "23 Days           1\n",
       "Name: count, Length: 318, dtype: int64"
      ]
     },
     "execution_count": 8,
     "metadata": {},
     "output_type": "execute_result"
    }
   ],
   "source": [
    "df['minimum_age'].value_counts()"
   ]
  },
  {
   "cell_type": "code",
   "execution_count": 9,
   "id": "badbd047-ecad-4fb1-9486-a953fac13e2f",
   "metadata": {},
   "outputs": [
    {
     "data": {
      "text/plain": [
       "maximum_age\n",
       "N/A           214375\n",
       "65 Years       29033\n",
       "80 Years       23198\n",
       "75 Years       22838\n",
       "70 Years       18586\n",
       "               ...  \n",
       "54 Days            1\n",
       "263 Months         1\n",
       "93 Days            1\n",
       "26 Hours           1\n",
       "37 Days            1\n",
       "Name: count, Length: 473, dtype: int64"
      ]
     },
     "execution_count": 9,
     "metadata": {},
     "output_type": "execute_result"
    }
   ],
   "source": [
    "df['maximum_age'].value_counts()"
   ]
  },
  {
   "cell_type": "code",
   "execution_count": 10,
   "id": "1ca8b60b-98b4-4b1a-a90e-4eb765d4fbac",
   "metadata": {},
   "outputs": [
    {
     "data": {
      "text/plain": [
       "healthy_volunteers\n",
       "No                            322154\n",
       "Accepts Healthy Volunteers    118138\n",
       "Name: count, dtype: int64"
      ]
     },
     "execution_count": 10,
     "metadata": {},
     "output_type": "execute_result"
    }
   ],
   "source": [
    "df['healthy_volunteers'].value_counts()"
   ]
  },
  {
   "cell_type": "markdown",
   "id": "e32c12c0-279d-4e1d-af6a-87e870dbad2f",
   "metadata": {},
   "source": [
    "### More complicated cases"
   ]
  },
  {
   "cell_type": "code",
   "execution_count": 16,
   "id": "58f37495-179b-4584-9a9f-b17928062f16",
   "metadata": {},
   "outputs": [
    {
     "data": {
      "text/plain": [
       "[{'intervention_type': 'Biological',\n",
       "  'intervention_name': 'V930',\n",
       "  'description': 'V930 Over a 94 week duration, patients will receive a series of 5 injections (2.5 mg/injection), one every other week. Within 2 minutes of each injection of V930, each patient will be given an EP-IM injection consisting of two 60 msec pulses.',\n",
       "  'arm_group_label': '1'},\n",
       " {'intervention_type': 'Biological',\n",
       "  'intervention_name': 'V932',\n",
       "  'description': 'V932 Over a 94 week duration, patients will receive a series of 5 injections, 6 patients will initially received intramuscular V932 vaccinations at a low dose (0.5x109 vg/injection),and following a safety assessment, up to an additional 35 patients will be treated with the high dose V932 (0.5x1011 vg/injection).',\n",
       "  'arm_group_label': '2'}]"
      ]
     },
     "execution_count": 16,
     "metadata": {},
     "output_type": "execute_result"
    }
   ],
   "source": [
    "df['intervention'][0]"
   ]
  },
  {
   "cell_type": "code",
   "execution_count": 14,
   "id": "3b898fed-9732-48ce-b733-1dae7c5708b7",
   "metadata": {},
   "outputs": [
    {
     "data": {
      "text/plain": [
       "dict_keys(['criteria', 'gender', 'minimum_age', 'maximum_age', 'healthy_volunteers'])"
      ]
     },
     "execution_count": 14,
     "metadata": {},
     "output_type": "execute_result"
    }
   ],
   "source": [
    "df['eligibility'][0].keys()"
   ]
  },
  {
   "cell_type": "code",
   "execution_count": 11,
   "id": "79139da5-b8c3-43db-a920-c7080f139124",
   "metadata": {},
   "outputs": [
    {
     "data": {
      "text/plain": [
       "0                  Cancers expressing HER-2 and/or CEA\n",
       "1                                                 None\n",
       "2    [dexmedetomidine, midazolam, remifentanil, Ele...\n",
       "3                                                 None\n",
       "4    [adenocarcinoma of the colon, stage I colon ca...\n",
       "5                                                 None\n",
       "6                                                 None\n",
       "7                                                 None\n",
       "8    [ADHD, ADD, Attention Deficit Hyperactivity Di...\n",
       "9     [wound healing, phototoxicity, Healthy Subjects]\n",
       "Name: keyword, dtype: object"
      ]
     },
     "execution_count": 11,
     "metadata": {},
     "output_type": "execute_result"
    }
   ],
   "source": [
    "df['keyword'][:10]"
   ]
  },
  {
   "cell_type": "code",
   "execution_count": 12,
   "id": "8770cfea-e9c4-4563-b2b0-666b4f0e4857",
   "metadata": {},
   "outputs": [
    {
     "data": {
      "text/plain": [
       "0                                                 None\n",
       "1                                                 None\n",
       "2                                                 None\n",
       "3    {'mesh_term': 'Attention Deficit Disorder with...\n",
       "4                   {'mesh_term': 'Colonic Neoplasms'}\n",
       "5            {'mesh_term': 'Constriction, Pathologic'}\n",
       "6                        {'mesh_term': 'Otitis Media'}\n",
       "7                                                 None\n",
       "8                                                 None\n",
       "9                                                 None\n",
       "Name: condition_browse, dtype: object"
      ]
     },
     "execution_count": 12,
     "metadata": {},
     "output_type": "execute_result"
    }
   ],
   "source": [
    "df['condition_browse'][:10]"
   ]
  },
  {
   "cell_type": "markdown",
   "id": "988e6c69-3cbf-4072-9774-84d34a8920e1",
   "metadata": {},
   "source": [
    "### Less complicated"
   ]
  },
  {
   "cell_type": "code",
   "execution_count": 17,
   "id": "89945b8b-3686-4787-850c-e0f72c69e4b5",
   "metadata": {},
   "outputs": [
    {
     "data": {
      "text/plain": [
       "primary_purpose\n",
       "Treatment                          224409\n",
       "Prevention                          37354\n",
       "Other                               17257\n",
       "Supportive Care                     17069\n",
       "Basic Science                       16628\n",
       "Diagnostic                          15376\n",
       "Health Services Research             8414\n",
       "Screening                            2988\n",
       "Device Feasibility                   1075\n",
       "Educational/Counseling/Training       186\n",
       "Name: count, dtype: int64"
      ]
     },
     "execution_count": 17,
     "metadata": {},
     "output_type": "execute_result"
    }
   ],
   "source": [
    "df['primary_purpose'].value_counts()"
   ]
  },
  {
   "cell_type": "code",
   "execution_count": 18,
   "id": "be33807d-5d0c-4b86-9ac0-80e5c1112357",
   "metadata": {},
   "outputs": [
    {
     "data": {
      "text/plain": [
       "nct_id\n",
       "NCT00647114    1\n",
       "NCT04235829    1\n",
       "NCT04232995    1\n",
       "NCT04239365    1\n",
       "NCT04237597    1\n",
       "              ..\n",
       "NCT02748460    1\n",
       "NCT02749500    1\n",
       "NCT02741791    1\n",
       "NCT02741024    1\n",
       "NCT03052816    1\n",
       "Name: count, Length: 451538, dtype: int64"
      ]
     },
     "execution_count": 18,
     "metadata": {},
     "output_type": "execute_result"
    }
   ],
   "source": [
    "df['nct_id'].value_counts()"
   ]
  },
  {
   "cell_type": "code",
   "execution_count": 19,
   "id": "5cb320b1-53a1-43ca-a373-6578b78d7974",
   "metadata": {
    "scrolled": true
   },
   "outputs": [
    {
     "name": "stdout",
     "output_type": "stream",
     "text": [
      "451538\n"
     ]
    }
   ],
   "source": [
    "count_url = 0\n",
    "for i in range(len(df['url'])):\n",
    "    count_url += 1 if df['url'][i] else 0\n",
    "print(count_url)"
   ]
  },
  {
   "cell_type": "code",
   "execution_count": 20,
   "id": "9d0bd925-5e91-4ce2-8054-642920e47fb2",
   "metadata": {},
   "outputs": [
    {
     "data": {
      "text/plain": [
       "2"
      ]
     },
     "execution_count": 20,
     "metadata": {},
     "output_type": "execute_result"
    }
   ],
   "source": [
    "len(df['id_info'][2].keys())"
   ]
  },
  {
   "cell_type": "code",
   "execution_count": 21,
   "id": "bfb3b46c-2452-4ce8-88cd-7be4e04c2221",
   "metadata": {},
   "outputs": [
    {
     "name": "stdout",
     "output_type": "stream",
     "text": [
      "3\n",
      "dict_keys(['org_study_id', 'secondary_id', 'nct_id'])\n",
      "2\n",
      "dict_keys(['org_study_id', 'nct_id'])\n"
     ]
    }
   ],
   "source": [
    "max_keys = 0\n",
    "max_string_keys = ''\n",
    "for i in range(len(df['id_info'])):\n",
    "    if max_keys >= len(df['id_info'][i].keys()):\n",
    "        break\n",
    "    max_keys = len(df['id_info'][i].keys())\n",
    "    max_string_keys = df['id_info'][i].keys()\n",
    "print(max_keys)\n",
    "print(max_string_keys)\n",
    "\n",
    "min_keys = 100\n",
    "min_string_keys = ''\n",
    "for i in range(len(df['id_info'])):\n",
    "    if min_keys <= len(df['id_info'][i].keys()):\n",
    "        break\n",
    "    min_keys = len(df['id_info'][i].keys())\n",
    "    min_string_keys = df['id_info'][i].keys()\n",
    "print(min_keys)\n",
    "print(min_string_keys)"
   ]
  },
  {
   "cell_type": "code",
   "execution_count": 22,
   "id": "67432d52-cd6f-4bb7-a2b9-0bb63708966a",
   "metadata": {},
   "outputs": [
    {
     "data": {
      "text/plain": [
       "dict_keys(['org_study_id', 'secondary_id', 'nct_id'])"
      ]
     },
     "execution_count": 22,
     "metadata": {},
     "output_type": "execute_result"
    }
   ],
   "source": [
    "df['id_info'][0].keys()"
   ]
  },
  {
   "cell_type": "code",
   "execution_count": 23,
   "id": "eded8c3e-2bc9-4967-9165-f567024ccf77",
   "metadata": {},
   "outputs": [
    {
     "name": "stdout",
     "output_type": "stream",
     "text": [
      "451538\n"
     ]
    }
   ],
   "source": [
    "count_nct_id = 0\n",
    "for i in range(len(df['id_info'])):\n",
    "    count_nct_id += 1 if df['id_info'][i].get('nct_id', 0) else 0\n",
    "print(count_nct_id)"
   ]
  },
  {
   "cell_type": "code",
   "execution_count": 24,
   "id": "2ed23882-26b6-4b07-bdf8-faca8d17d9a1",
   "metadata": {},
   "outputs": [
    {
     "data": {
      "text/plain": [
       "0         A Study to Test V930/V932 in Patients With Can...\n",
       "1         Fed Study of Benazepril HCl and Hydrochlorothi...\n",
       "2         Effects of Two Different Sedation Regimes on A...\n",
       "3         Safety, Tolerability and Efficacy Study of ABT...\n",
       "4         Fluorouracil and Oxaliplatin With or Without P...\n",
       "                                ...                        \n",
       "451533    Evaluating 18F-FDG PET/CT With Liver SUVmax-ba...\n",
       "451534    Imaging of in Vivo Sigma-2 Receptor Expression...\n",
       "451535    Evaluation of the Efficacy Safety and Tolerabi...\n",
       "451536          Resistant Starch, Gut Bacteria and Diabetes\n",
       "451537    Ice T Postoperative Multimodal Pain Regimen in...\n",
       "Name: brief_title, Length: 451538, dtype: object"
      ]
     },
     "execution_count": 24,
     "metadata": {},
     "output_type": "execute_result"
    }
   ],
   "source": [
    "df['brief_title']"
   ]
  },
  {
   "cell_type": "code",
   "execution_count": 25,
   "id": "671b0569-4f45-4b41-b582-9d01f6d67541",
   "metadata": {},
   "outputs": [
    {
     "data": {
      "text/plain": [
       "0"
      ]
     },
     "execution_count": 25,
     "metadata": {},
     "output_type": "execute_result"
    }
   ],
   "source": [
    "df['brief_title'].isna().sum()"
   ]
  },
  {
   "cell_type": "code",
   "execution_count": 26,
   "id": "9a43d90e-9abb-4339-b32b-c79d4cb5ea8f",
   "metadata": {},
   "outputs": [
    {
     "data": {
      "text/plain": [
       "841"
      ]
     },
     "execution_count": 26,
     "metadata": {},
     "output_type": "execute_result"
    }
   ],
   "source": [
    "df['brief_summary'].isna().sum()"
   ]
  },
  {
   "cell_type": "code",
   "execution_count": 27,
   "id": "d6bc43c7-4269-482f-bbd1-2099c909de37",
   "metadata": {},
   "outputs": [
    {
     "data": {
      "text/plain": [
       "brief_summary\n",
       "<class 'str'>         450697\n",
       "<class 'NoneType'>       841\n",
       "Name: count, dtype: int64"
      ]
     },
     "execution_count": 27,
     "metadata": {},
     "output_type": "execute_result"
    }
   ],
   "source": [
    "df['brief_summary'].apply(type).value_counts()"
   ]
  },
  {
   "cell_type": "code",
   "execution_count": 28,
   "id": "43bb4843-db8e-464a-83b8-d9593d25acff",
   "metadata": {},
   "outputs": [
    {
     "data": {
      "text/plain": [
       "brief_summary\n",
       "To evaluate the Sun Protection Factor efficacy on human skin.                                                                                                                                                                                                                                                                        49\n",
       "Investigators are building an empirical evidence base for real world data through large-scale replication of randomized controlled trials. The investigators' goal is to understand for what types of clinical questions real world data analyses can be conducted with confidence and how to implement such studies.                35\n",
       "This study aims to evaluate the comparative risk of dementia/Alzheimer's disease onset between patients treated with medications that target specific metabolic pathways and patients treated with alternative medications for the same indication.                                                                                  14\n",
       "This study seeks to correlate microbiome sequencing data with information provided by patients and their medical records.                                                                                                                                                                                                            14\n",
       "The objective of this surveillance is to collect information about 1) adverse drug reaction not expected from the LPD (unknown adverse drug reaction), 2) the incidence of adverse drug reactions in this surveillance, and 3)factors considered to affect the safety and/or efficacy of this drug.                                  13\n",
       "This is an open label, randomised, balanced, two-treatment, two-period, two-sequence, single dose, crossover, oral bioequivalence study.                                                                                                                                                                                             10\n",
       "Bioequivalence study between two inhaler products of fixed dose combination of fluticasone propionate and salmeterol xinafoate inhalation powder                                                                                                                                                                                     10\n",
       "TQB2450 is a humanized monoclonal antibody targeting programmed death ligand-1 (PD-L1), which prevents PD-L1 from binding to PD-1 and B7.1 receptors on T cell surface, restores T cell activity, thus enhancing immune response and has potential to treat various types of tumors.                                                  6\n",
       "The purpose of this study is to evaluate the safeness and effectiveness of mix vaccine (MV). Enrolled patients will receive standard treatment according to National Comprehensive Cancer Network (NCCN) guide line with or without combining MV injection. The efficacy and side effect will be compared between the two groups.     5\n",
       "The objective is to investigate the Clinical, Radiographic, Roentgen Stereophotogrammetric behaviour and patient outcome when using the Triathlon total knee prosthesis in a prospective randomized clinical trial.                                                                                                                   5\n",
       "Name: count, dtype: int64"
      ]
     },
     "execution_count": 28,
     "metadata": {},
     "output_type": "execute_result"
    }
   ],
   "source": [
    "df['brief_summary'].value_counts()[:10]"
   ]
  },
  {
   "cell_type": "code",
   "execution_count": 29,
   "id": "58e6f0da-3a50-4a11-a9f5-33149bfbd845",
   "metadata": {},
   "outputs": [
    {
     "name": "stdout",
     "output_type": "stream",
     "text": [
      "Index([   854,    936,    977,   2962,   3354,   3359,   4953,   5235,   5307,\n",
      "         5517,\n",
      "       ...\n",
      "       441722, 442341, 443174, 444716, 445616, 447390, 448477, 449224, 449228,\n",
      "       449655],\n",
      "      dtype='int64', length=841)\n",
      "len(bad_indexes): 841\n"
     ]
    }
   ],
   "source": [
    "bad_indexes = df.loc[pd.isna(df[\"brief_summary\"]), :].index\n",
    "print(bad_indexes)\n",
    "print('len(bad_indexes):', len(bad_indexes))"
   ]
  },
  {
   "cell_type": "code",
   "execution_count": null,
   "id": "927f55cb-31d3-4f61-9d97-62a7c20a6364",
   "metadata": {},
   "outputs": [],
   "source": []
  },
  {
   "cell_type": "markdown",
   "id": "0b14cbdb-073e-482f-9c95-4f48ec03dafa",
   "metadata": {},
   "source": [
    "### Check word (tokens) frequency"
   ]
  },
  {
   "cell_type": "markdown",
   "id": "515afa79-37fb-47c5-9f3c-842d6f529949",
   "metadata": {},
   "source": [
    "1. Word frequency in all strings"
   ]
  },
  {
   "cell_type": "code",
   "execution_count": 30,
   "id": "4c65a2be-6d46-44ae-aeda-6545c09dfe26",
   "metadata": {},
   "outputs": [
    {
     "data": {
      "text/plain": [
       "the          37181\n",
       "of           35599\n",
       "and          25735\n",
       "to           24576\n",
       "in           20003\n",
       "a            13574\n",
       "is           13541\n",
       "with         12917\n",
       "will          9869\n",
       "study         9650\n",
       "The           8380\n",
       "for           8205\n",
       "or            7030\n",
       "be            7026\n",
       "patients      6955\n",
       "this          6022\n",
       "that          4916\n",
       "are           4429\n",
       "This          4273\n",
       "as            4032\n",
       "by            3847\n",
       "treatment     3830\n",
       "on            3829\n",
       "may           3696\n",
       "have          3683\n",
       "an            2986\n",
       "at            2926\n",
       "who           2866\n",
       "from          2823\n",
       "blood         2718\n",
       "Name: count, dtype: int64"
      ]
     },
     "execution_count": 30,
     "metadata": {},
     "output_type": "execute_result"
    }
   ],
   "source": [
    "df['brief_summary'][:10000].str.split(expand=True).stack().value_counts()[:30]"
   ]
  },
  {
   "cell_type": "code",
   "execution_count": 31,
   "id": "92a1d507-1bf1-4f67-acd8-b20e1386a154",
   "metadata": {},
   "outputs": [
    {
     "data": {
      "text/plain": [
       "0         Treatment of patients with cancer types known ...\n",
       "1         The objective of this study was to investigate...\n",
       "2         Sedation may be necessary in intensive care to...\n",
       "3         The purpose of this study is to test if the in...\n",
       "4         RATIONALE Drugs used in chemotherapy, such as ...\n",
       "                                ...                        \n",
       "451533    The purpose of this study is to evaluate wheth...\n",
       "451534    Pilot study using [18F]ISO-1 PET/CT to image s...\n",
       "451535    Double blind, randomized multi-center, evaluat...\n",
       "451536    The aim of the study is to investigate, if res...\n",
       "451537    The purpose of this randomized controlled tria...\n",
       "Name: brief_summary, Length: 451538, dtype: object"
      ]
     },
     "execution_count": 31,
     "metadata": {},
     "output_type": "execute_result"
    }
   ],
   "source": [
    "df['brief_summary']"
   ]
  },
  {
   "cell_type": "markdown",
   "id": "699b3c03-ea41-491b-8ba1-dd75a901dfb8",
   "metadata": {},
   "source": [
    "2. Token frequency in all strings"
   ]
  },
  {
   "cell_type": "code",
   "execution_count": null,
   "id": "790f6c25-40c8-45c9-937b-f66db9297dd6",
   "metadata": {},
   "outputs": [],
   "source": [
    "tokenizer = None"
   ]
  },
  {
   "cell_type": "code",
   "execution_count": null,
   "id": "d321f214-e947-4d18-bbac-6d5e1827a44e",
   "metadata": {},
   "outputs": [],
   "source": []
  }
 ],
 "metadata": {
  "kernelspec": {
   "display_name": "trec",
   "language": "python",
   "name": "trec"
  },
  "language_info": {
   "codemirror_mode": {
    "name": "ipython",
    "version": 3
   },
   "file_extension": ".py",
   "mimetype": "text/x-python",
   "name": "python",
   "nbconvert_exporter": "python",
   "pygments_lexer": "ipython3",
   "version": "3.9.16"
  }
 },
 "nbformat": 4,
 "nbformat_minor": 5
}
