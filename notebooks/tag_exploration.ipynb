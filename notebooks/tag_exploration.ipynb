{
 "cells": [
  {
   "cell_type": "code",
   "execution_count": 1,
   "id": "db66ceb8-3ee8-41c9-b6e7-98b8fea574c4",
   "metadata": {},
   "outputs": [],
   "source": [
    "import xml\n",
    "import os\n",
    "import xml.etree.ElementTree as ET\n",
    "from tqdm import tqdm\n",
    "import numpy as np"
   ]
  },
  {
   "cell_type": "markdown",
   "id": "23298e3c-7034-4c5f-b228-c95d448f23ca",
   "metadata": {},
   "source": [
    "### Exploration of the XML tags"
   ]
  },
  {
   "cell_type": "code",
   "execution_count": 2,
   "id": "a31bf927-0e03-483e-95cb-7d59e6eaab7b",
   "metadata": {},
   "outputs": [],
   "source": [
    "def get_file_names(raw_data_folder_path):\n",
    "    file_paths = []\n",
    "    for splits in os.scandir(raw_data_folder_path):\n",
    "        if splits.is_dir():\n",
    "            for nct_dir in os.scandir(splits.path):\n",
    "                for file in os.scandir(nct_dir.path):\n",
    "                    if file.is_file():\n",
    "                        file_paths.append(file.path)\n",
    "    return file_paths"
   ]
  },
  {
   "cell_type": "code",
   "execution_count": 3,
   "id": "08236644-5911-4a91-aadb-e2705777c245",
   "metadata": {},
   "outputs": [
    {
     "data": {
      "text/plain": [
       "'/home/hazot/code/trec-clinical-trials-2023/data/raw'"
      ]
     },
     "execution_count": 3,
     "metadata": {},
     "output_type": "execute_result"
    }
   ],
   "source": [
    "raw_data_folder_path = os.path.normpath(os.getcwd() + '/..' + '/data/raw/')\n",
    "raw_data_folder_path"
   ]
  },
  {
   "cell_type": "code",
   "execution_count": 4,
   "id": "86a2f7d9-2700-43ed-b393-8f1ebad744fe",
   "metadata": {},
   "outputs": [],
   "source": [
    "def tag_exploration_loop_raw_numbers(raw_data_folder_path):\n",
    "    file_paths = get_file_names(raw_data_folder_path)\n",
    "    \n",
    "    nb_elems_all = []\n",
    "    max_elem_list = []\n",
    "    all_tags_list = set()\n",
    "    for file_path in tqdm(file_paths, desc='Parsing XML files to json:', disable=False, position=0, leave=True):\n",
    "        # load and parse the file\n",
    "        xml_tree = ET.parse(file_path)\n",
    "        \n",
    "        elem_list = []\n",
    "        \n",
    "        for elem in xml_tree.iter():\n",
    "            elem_list.append(elem.tag)\n",
    "        \n",
    "        # now I remove duplicities - by convertion to set and back to list\n",
    "        elem_list = list(set(elem_list))\n",
    "    \n",
    "        nb_elem = len(elem_list)\n",
    "        nb_elems_all.append(nb_elem)\n",
    "        \n",
    "        if nb_elem > len(max_elem_list):\n",
    "            max_elem_list = elem_list\n",
    "\n",
    "        for tag in elem_list:\n",
    "            if tag not in all_tags_list:\n",
    "                all_tags_list.add(tag)\n",
    "\n",
    "    return nb_elems_all, max_elem_list, all_tags_list"
   ]
  },
  {
   "cell_type": "code",
   "execution_count": 5,
   "id": "c71b9532-d113-4417-b22f-479731389718",
   "metadata": {},
   "outputs": [
    {
     "name": "stderr",
     "output_type": "stream",
     "text": [
      "Parsing XML files to json:: 100%|█████████████████████████████████████████████| 451538/451538 [05:16<00:00, 1428.90it/s]\n"
     ]
    }
   ],
   "source": [
    "result_tuple = tag_exploration_loop_raw_numbers(raw_data_folder_path)"
   ]
  },
  {
   "cell_type": "code",
   "execution_count": 14,
   "id": "211a5666-793a-4a7d-81a6-0e0e71c16c65",
   "metadata": {},
   "outputs": [],
   "source": [
    "list_nb_of_elems = result_tuple[0]\n",
    "list_max_elem = result_tuple[1]\n",
    "all_possible_tags_list = result_tuple[2]"
   ]
  },
  {
   "cell_type": "code",
   "execution_count": 17,
   "id": "c99f86c1-5d35-46ff-af1e-6ab4abc8d704",
   "metadata": {},
   "outputs": [
    {
     "name": "stdout",
     "output_type": "stream",
     "text": [
      "Number of Clinical Trials possible: 451538\n",
      "Average number of tags in a list: 87.2884186934433\n",
      "std of number of tags in a list: 22.63627100621393\n"
     ]
    }
   ],
   "source": [
    "# Statistics on the number of elems in list\n",
    "import statistics as stats\n",
    "print('Number of Clinical Trials possible:', len(list_nb_of_elems))\n",
    "print('Average number of tags in a list:', np.mean(list_nb_of_elems))\n",
    "print('std of number of tags in a list:', np.std(list_nb_of_elems))"
   ]
  },
  {
   "cell_type": "code",
   "execution_count": 18,
   "id": "69449d5b-9668-46cc-88db-de75b4d4d5d1",
   "metadata": {},
   "outputs": [
    {
     "name": "stdout",
     "output_type": "stream",
     "text": [
      "Number of tags in the XML file with the most tags: 183\n",
      "Number of possible tags in all files: 235\n"
     ]
    }
   ],
   "source": [
    "# analysis of a list with the most elements in it\n",
    "print('Number of tags in the XML file with the most tags:', len(list_max_elem))\n",
    "print('Number of possible tags in all files:', len(all_possible_tags_list))"
   ]
  },
  {
   "cell_type": "code",
   "execution_count": 20,
   "id": "f6cbfe43-941c-4b06-9dbb-c86a21e7d4eb",
   "metadata": {},
   "outputs": [
    {
     "name": "stdout",
     "output_type": "stream",
     "text": [
      "{'textblock', 'facility', 'description', 'secondary_id', 'document_url', 'counts', 'dispersion_value', 'removed_countries', 'results_first_submitted_qc', 'submitted', 'nct_alias', 'link_text', 'study_type', 'drop_withdraw_reason_list', 'patient_data', 'investigator', 'name_title', 'status', 'city', 'milestone', 'doc_url', 'number_of_arms', 'ci_upper_limit', 'participants', 'is_unapproved_device', 'download_date', 'period', 'study_first_submitted', 'eligibility', 'last_known_status', 'submission_canceled', 'participants_list', 'is_fda_regulated_drug', 'zip', 'analyzed', 'period_list', 'outcome', 'title', 'pre_assignment_details', 'units', 'pending_results', 'biospec_descr', 'required_header', 'dispersion_type', 'phone_ext', 'group_id', 'overall_contact_backup', 'method_desc', 'study_design_info', 'affiliation', 'last_update_submitted', 'expanded_access_type_treatment', 'arm_group_type', 'dispersion', 'agency_class', 'expanded_access_type_intermediate', 'limitations_and_caveats', 'lead_sponsor', 'population', 'non_inferiority_type', 'ipd_info_type', 'primary_completion_date', 'contact_backup', 'arm_group', 'provided_document', 'organization', 'document_has_sap', 'biospec_retention', 'analysis', 'other_name', 'primary_outcome', 'detailed_description', 'address', 'completion_date', 'count', 'intervention_model_description', 'analyzed_list', 'condition_browse', 'secondary_outcome', 'is_ppsd', 'ci_n_sides', 'intervention_browse', 'link', 'clinical_study', 'url', 'group_id_list', 'maximum_age', 'overall_official', 'param', 'document_date', 'is_us_export', 'default_vocab', 'category', 'ipd_description', 'study_doc', 'criteria', 'healthy_volunteers', 'other_outcome', 'phase', 'minimum_age', 'p_value_desc', 'other_events', 'certain_agreements', 'method', 'baseline', 'condition', 'name', 'citation', 'last_update_submitted_qc', 'results_first_submitted', 'doc_type', 'phone', 'measurement_list', 'disposition_first_submitted', 'brief_title', 'intervention_model', 'enrollment', 'gender', 'results_reference', 'sampling_method', 'study_docs', 'default_assessment', 'groups_desc', 'time_frame', 'ipd_url', 'number_of_groups', 'class', 'type', 'email', 'estimate_desc', 'ipd_time_frame', 'group_list', 'name_or_title', 'posting_date', 'study_first_submitted_qc', 'arm_group_label', 'event_list', 'disposition_first_posted', 'frequency_threshold', 'org_study_id', 'responsible_party_type', 'reported_events', 'recruitment_details', 'brief_summary', 'gender_description', 'has_expanded_access', 'doc_comment', 'class_list', 'other_analysis_desc', 'measure_list', 'agency', 'investigator_title', 'doc_id', 'gender_based', 'assessment', 'document_has_icf', 'country', 'intervention_name', 'overall_contact', 'document_has_protocol', 'participant_flow', 'why_stopped', 'target_duration', 'reference', 'last_update_posted', 'scope', 'ipd_access_criteria', 'measure', 'sub_title', 'disposition_first_submitted_qc', 'observational_model', 'official_title', 'acronym', 'returned', 'param_type', 'ci_upper_limit_na_comment', 'verification_date', 'collaborator', 'pi_employee', 'time_perspective', 'primary_purpose', 'milestone_list', 'responsible_party', 'expanded_access_info', 'restrictive_agreement', 'units_analyzed', 'expanded_access_type_individual', 'results_first_posted', 'study_first_posted', 'has_dmc', 'outcome_list', 'location_countries', 'ci_lower_limit', 'provided_document_section', 'desc', 'ci_percent', 'investigator_affiliation', 'non_inferiority_desc', 'oversight_info', 'drop_withdraw_reason', 'allocation', 'point_of_contact', 'clinical_results', 'nct_id', 'count_list', 'start_date', 'keyword', 'p_value', 'sharing_ipd', 'study_pop', 'serious_events', 'overall_status', 'role', 'group', 'document_type', 'last_name', 'contact', 'source', 'event', 'analysis_list', 'category_list', 'masking', 'intervention', 'masking_description', 'location', 'measurement', 'param_value', 'PMID', 'id_info', 'mesh_term', 'investigator_full_name', 'state', 'sponsors', 'is_fda_regulated_device', 'intervention_type'}\n"
     ]
    }
   ],
   "source": [
    "# analysis of a list of all possible tags\n",
    "print(all_possible_tags_list)"
   ]
  },
  {
   "cell_type": "code",
   "execution_count": null,
   "id": "7375e32a-3c42-46d3-9ce7-d9beed670b95",
   "metadata": {},
   "outputs": [],
   "source": [
    "def tag_specific_exploration_loop(tags):\n",
    "    file_paths = get_file_names(raw_data_folder_path)\n",
    "    \n",
    "    nb_elems_all = []\n",
    "    max_elem_list = []\n",
    "    all_tags_list = set()\n",
    "    for file_path in tqdm(file_paths, desc='Parsing XML files to json:', disable=False, position=0, leave=True):\n",
    "        # load and parse the file\n",
    "        xml_tree = ET.parse(file_path)\n",
    "        \n",
    "        elem_list = []\n",
    "        \n",
    "        for elem in xml_tree.iter():\n",
    "            elem_list.append(elem.tag)\n",
    "        \n",
    "        # now I remove duplicities - by convertion to set and back to list\n",
    "        elem_list = list(set(elem_list))\n",
    "    \n",
    "        nb_elem = len(elem_list)\n",
    "        nb_elems_all.append(nb_elem)\n",
    "        \n",
    "        if nb_elem > len(max_elem_list):\n",
    "            max_elem_list = elem_list\n",
    "\n",
    "        for tag in elem_list:\n",
    "            if tag in tags:\n",
    "                all_tags_list.add(tag)\n"
   ]
  },
  {
   "cell_type": "markdown",
   "id": "a1b2cb24-728a-4514-a7c1-53604c55f616",
   "metadata": {},
   "source": [
    "### Analysis of NCT01160822"
   ]
  },
  {
   "cell_type": "code",
   "execution_count": 24,
   "id": "b796feea-8273-42af-b014-537f6faa7b02",
   "metadata": {},
   "outputs": [],
   "source": [
    "path = os.path.normpath(os.getcwd() + '/..' + '/data/raw/ClinicalTrials.2023-05-08.trials1/NCT0116xxxx/NCT01160822.xml')"
   ]
  },
  {
   "cell_type": "code",
   "execution_count": 25,
   "id": "3155fe33-55c0-4e27-a961-db6729040629",
   "metadata": {},
   "outputs": [],
   "source": [
    "xml_tree = ET.parse(path)"
   ]
  },
  {
   "cell_type": "code",
   "execution_count": 28,
   "id": "327001b7-dcee-4f54-aedf-fdf65f6aa7db",
   "metadata": {},
   "outputs": [],
   "source": [
    "elem_list = []\n",
    "        \n",
    "for elem in xml_tree.iter():\n",
    "    elem_list.append(elem.tag)\n",
    "\n",
    "# now I remove duplicities - by convertion to set and back to list\n",
    "elem_list = list(set(elem_list))"
   ]
  }
 ],
 "metadata": {
  "kernelspec": {
   "display_name": "trec_py311",
   "language": "python",
   "name": "trec_py311"
  },
  "language_info": {
   "codemirror_mode": {
    "name": "ipython",
    "version": 3
   },
   "file_extension": ".py",
   "mimetype": "text/x-python",
   "name": "python",
   "nbconvert_exporter": "python",
   "pygments_lexer": "ipython3",
   "version": "3.11.4"
  }
 },
 "nbformat": 4,
 "nbformat_minor": 5
}
