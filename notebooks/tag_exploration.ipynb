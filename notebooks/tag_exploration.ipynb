{
 "cells": [
  {
   "cell_type": "code",
   "execution_count": 1,
   "id": "db66ceb8-3ee8-41c9-b6e7-98b8fea574c4",
   "metadata": {},
   "outputs": [],
   "source": [
    "import xml\n",
    "import os\n",
    "import xml.etree.ElementTree as ET\n",
    "from tqdm import tqdm\n",
    "import numpy as np"
   ]
  },
  {
   "cell_type": "markdown",
   "id": "23298e3c-7034-4c5f-b228-c95d448f23ca",
   "metadata": {},
   "source": [
    "### Exploration of the XML tags"
   ]
  },
  {
   "cell_type": "code",
   "execution_count": 2,
   "id": "a31bf927-0e03-483e-95cb-7d59e6eaab7b",
   "metadata": {},
   "outputs": [],
   "source": [
    "def get_file_names(raw_data_folder_path):\n",
    "    file_paths = []\n",
    "    for splits in os.scandir(raw_data_folder_path):\n",
    "        if splits.is_dir():\n",
    "            for nct_dir in os.scandir(splits.path):\n",
    "                for file in os.scandir(nct_dir.path):\n",
    "                    if file.is_file():\n",
    "                        file_paths.append(file.path)\n",
    "    return file_paths"
   ]
  },
  {
   "cell_type": "code",
   "execution_count": 3,
   "id": "08236644-5911-4a91-aadb-e2705777c245",
   "metadata": {},
   "outputs": [
    {
     "data": {
      "text/plain": [
       "'/home/hazot/code/trec-clinical-trials-2023/data/raw'"
      ]
     },
     "execution_count": 3,
     "metadata": {},
     "output_type": "execute_result"
    }
   ],
   "source": [
    "raw_data_folder_path = os.path.normpath(os.getcwd() + '/..' + '/data/raw/')\n",
    "raw_data_folder_path"
   ]
  },
  {
   "cell_type": "code",
   "execution_count": 4,
   "id": "86a2f7d9-2700-43ed-b393-8f1ebad744fe",
   "metadata": {},
   "outputs": [],
   "source": [
    "def tag_exploration_loop_raw_numbers(raw_data_folder_path):\n",
    "    file_paths = get_file_names(raw_data_folder_path)\n",
    "    \n",
    "    nb_elems_all = []\n",
    "    max_elem_list = []\n",
    "    all_tags_list = set()\n",
    "    for file_path in tqdm(file_paths, desc='Parsing XML files to json:', disable=False, position=0, leave=True):\n",
    "        # load and parse the file\n",
    "        xml_tree = ET.parse(file_path)\n",
    "        \n",
    "        elem_list = []\n",
    "        \n",
    "        for elem in xml_tree.iter():\n",
    "            elem_list.append(elem.tag)\n",
    "        \n",
    "        # now I remove duplicities - by convertion to set and back to list\n",
    "        elem_list = list(set(elem_list))\n",
    "    \n",
    "        nb_elem = len(elem_list)\n",
    "        nb_elems_all.append(nb_elem)\n",
    "        \n",
    "        if nb_elem > len(max_elem_list):\n",
    "            max_elem_list = elem_list\n",
    "\n",
    "        for tag in elem_list:\n",
    "            if tag not in all_tags_list:\n",
    "                all_tags_list.add(tag)\n",
    "\n",
    "    return nb_elems_all, max_elem_list, all_tags_list"
   ]
  },
  {
   "cell_type": "code",
   "execution_count": 5,
   "id": "c71b9532-d113-4417-b22f-479731389718",
   "metadata": {},
   "outputs": [
    {
     "name": "stderr",
     "output_type": "stream",
     "text": [
      "Parsing XML files to json:: 100%|█████████████████████████████████████████████| 451538/451538 [04:52<00:00, 1541.92it/s]\n"
     ]
    }
   ],
   "source": [
    "result_tuple = tag_exploration_loop_raw_numbers(raw_data_folder_path)"
   ]
  },
  {
   "cell_type": "code",
   "execution_count": 6,
   "id": "211a5666-793a-4a7d-81a6-0e0e71c16c65",
   "metadata": {},
   "outputs": [],
   "source": [
    "list_nb_of_elems = result_tuple[0]\n",
    "list_max_elem = result_tuple[1]\n",
    "all_possible_tags_list = result_tuple[2]"
   ]
  },
  {
   "cell_type": "code",
   "execution_count": 7,
   "id": "c99f86c1-5d35-46ff-af1e-6ab4abc8d704",
   "metadata": {},
   "outputs": [
    {
     "name": "stdout",
     "output_type": "stream",
     "text": [
      "Number of Clinical Trials possible: 451538\n",
      "Average number of tags in a list: 87.2884186934433\n",
      "std of number of tags in a list: 22.63627100621393\n"
     ]
    }
   ],
   "source": [
    "# Statistics on the number of elems in list\n",
    "import statistics as stats\n",
    "print('Number of Clinical Trials possible:', len(list_nb_of_elems))\n",
    "print('Average number of tags in a list:', np.mean(list_nb_of_elems))\n",
    "print('std of number of tags in a list:', np.std(list_nb_of_elems))"
   ]
  },
  {
   "cell_type": "code",
   "execution_count": 8,
   "id": "69449d5b-9668-46cc-88db-de75b4d4d5d1",
   "metadata": {},
   "outputs": [
    {
     "name": "stdout",
     "output_type": "stream",
     "text": [
      "Number of tags in the XML file with the most tags: 183\n",
      "Number of possible tags in all files: 235\n"
     ]
    }
   ],
   "source": [
    "# analysis of a list with the most elements in it\n",
    "print('Number of tags in the XML file with the most tags:', len(list_max_elem))\n",
    "print('Number of possible tags in all files:', len(all_possible_tags_list))"
   ]
  },
  {
   "cell_type": "code",
   "execution_count": 9,
   "id": "f6cbfe43-941c-4b06-9dbb-c86a21e7d4eb",
   "metadata": {},
   "outputs": [
    {
     "name": "stdout",
     "output_type": "stream",
     "text": [
      "{'citation', 'organization', 'reported_events', 'facility', 'has_dmc', 'results_first_submitted', 'contact', 'is_us_export', 'expanded_access_info', 'description', 'condition_browse', 'PMID', 'overall_contact', 'has_expanded_access', 'results_first_posted', 'dispersion', 'title', 'time_perspective', 'target_duration', 'dispersion_value', 'study_first_submitted', 'last_known_status', 'number_of_groups', 'doc_type', 'expanded_access_type_individual', 'collaborator', 'ci_n_sides', 'sharing_ipd', 'lead_sponsor', 'study_design_info', 'measurement', 'intervention_model_description', 'expanded_access_type_treatment', 'document_has_protocol', 'param_value', 'participants', 'pi_employee', 'event_list', 'method', 'address', 'param', 'p_value', 'p_value_desc', 'study_docs', 'drop_withdraw_reason_list', 'count_list', 'group_id_list', 'other_name', 'study_first_submitted_qc', 'category', 'participants_list', 'clinical_study', 'certain_agreements', 'status', 'intervention_browse', 'criteria', 'responsible_party_type', 'period', 'keyword', 'default_assessment', 'frequency_threshold', 'scope', 'posting_date', 'class', 'maximum_age', 'brief_summary', 'analysis', 'id_info', 'units', 'submitted', 'role', 'ci_lower_limit', 'arm_group_label', 'pre_assignment_details', 'intervention_name', 'serious_events', 'group', 'outcome_list', 'primary_outcome', 'state', 'event', 'groups_desc', 'results_first_submitted_qc', 'investigator', 'overall_contact_backup', 'sponsors', 'name', 'results_reference', 'arm_group', 'why_stopped', 'provided_document', 'is_unapproved_device', 'milestone_list', 'is_fda_regulated_device', 'completion_date', 'doc_comment', 'gender', 'eligibility', 'sub_title', 'analyzed_list', 'other_outcome', 'healthy_volunteers', 'time_frame', 'last_update_posted', 'ci_upper_limit_na_comment', 'name_or_title', 'allocation', 'dispersion_type', 'limitations_and_caveats', 'condition', 'count', 'intervention_type', 'phase', 'location', 'drop_withdraw_reason', 'verification_date', 'category_list', 'outcome', 'agency_class', 'oversight_info', 'disposition_first_posted', 'biospec_descr', 'estimate_desc', 'nct_alias', 'disposition_first_submitted', 'study_doc', 'email', 'download_date', 'name_title', 'biospec_retention', 'responsible_party', 'country', 'group_list', 'counts', 'org_study_id', 'zip', 'phone_ext', 'overall_official', 'ci_upper_limit', 'measurement_list', 'recruitment_details', 'link', 'primary_purpose', 'restrictive_agreement', 'masking_description', 'secondary_id', 'expanded_access_type_intermediate', 'masking', 'city', 'is_ppsd', 'investigator_affiliation', 'non_inferiority_type', 'detailed_description', 'brief_title', 'removed_countries', 'population', 'doc_url', 'url', 'measure', 'ipd_access_criteria', 'document_has_sap', 'location_countries', 'last_name', 'type', 'other_events', 'official_title', 'number_of_arms', 'period_list', 'document_has_icf', 'required_header', 'intervention', 'nct_id', 'provided_document_section', 'mesh_term', 'gender_based', 'class_list', 'doc_id', 'arm_group_type', 'milestone', 'participant_flow', 'phone', 'ipd_time_frame', 'last_update_submitted_qc', 'submission_canceled', 'textblock', 'last_update_submitted', 'default_vocab', 'ipd_url', 'study_type', 'document_type', 'minimum_age', 'primary_completion_date', 'non_inferiority_desc', 'param_type', 'baseline', 'is_fda_regulated_drug', 'agency', 'clinical_results', 'analysis_list', 'reference', 'ipd_info_type', 'measure_list', 'pending_results', 'acronym', 'returned', 'patient_data', 'document_url', 'document_date', 'overall_status', 'observational_model', 'study_pop', 'source', 'sampling_method', 'desc', 'ci_percent', 'other_analysis_desc', 'assessment', 'affiliation', 'secondary_outcome', 'analyzed', 'study_first_posted', 'intervention_model', 'method_desc', 'units_analyzed', 'start_date', 'ipd_description', 'link_text', 'enrollment', 'disposition_first_submitted_qc', 'point_of_contact', 'contact_backup', 'group_id', 'investigator_full_name', 'gender_description', 'investigator_title'}\n"
     ]
    }
   ],
   "source": [
    "# analysis of a list of all possible tags\n",
    "print(all_possible_tags_list)"
   ]
  },
  {
   "cell_type": "code",
   "execution_count": 10,
   "id": "7375e32a-3c42-46d3-9ce7-d9beed670b95",
   "metadata": {},
   "outputs": [],
   "source": [
    "def tag_specific_exploration_loop(tags):\n",
    "    #TODO: work on this function - check the frequency for each tag in the dataset\n",
    "    file_paths = get_file_names(raw_data_folder_path)\n",
    "    \n",
    "    nb_elems_all = []\n",
    "    max_elem_list = []\n",
    "    all_tags_list = set()\n",
    "    for file_path in tqdm(file_paths, desc='Parsing XML files to json:', disable=False, position=0, leave=True):\n",
    "        # load and parse the file\n",
    "        xml_tree = ET.parse(file_path)\n",
    "        \n",
    "        elem_list = []\n",
    "        \n",
    "        for elem in xml_tree.iter():\n",
    "            elem_list.append(elem.tag)\n",
    "        \n",
    "        # now I remove duplicities - by convertion to set and back to list\n",
    "        elem_list = list(set(elem_list))\n",
    "    \n",
    "        nb_elem = len(elem_list)\n",
    "        nb_elems_all.append(nb_elem)\n",
    "        \n",
    "        if nb_elem > len(max_elem_list):\n",
    "            max_elem_list = elem_list\n",
    "\n",
    "        for tag in elem_list:\n",
    "            if tag in tags:\n",
    "                all_tags_list.add(tag)\n"
   ]
  },
  {
   "cell_type": "code",
   "execution_count": null,
   "id": "760a7dc9-4a63-46e9-9f6b-4c440874fe6b",
   "metadata": {},
   "outputs": [],
   "source": [
    "#TODO: length of the text in each tags with their respective statistics"
   ]
  },
  {
   "cell_type": "code",
   "execution_count": null,
   "id": "b569ec79-d610-4031-9ec7-cd9eeb80cef3",
   "metadata": {},
   "outputs": [],
   "source": [
    "# Helper functions t get txt from xml files\n",
    "def extract_data(element, tag):\n",
    "    data = []\n",
    "\n",
    "    try:\n",
    "        for child in element.iter(tag):\n",
    "            content = extract_content(child)\n",
    "            data.append(content)\n",
    "        return data if len(data) > 1 else data[0]\n",
    "    except:\n",
    "        return None\n",
    "\n",
    "\n",
    "def extract_content(element):\n",
    "    if len(element) > 0:\n",
    "        content = {}\n",
    "        for child in element:\n",
    "            content[child.tag] = extract_content(child)\n",
    "        if content.get('textblock', None):\n",
    "            content = content[list(content.keys())[0]]\n",
    "    else:\n",
    "        content = ' '.join(element.text.strip().split()).replace(': ', ' ').replace(' - ', ' ')  # Remove unnecessary characters\n",
    "\n",
    "    return content"
   ]
  }
 ],
 "metadata": {
  "kernelspec": {
   "display_name": "trec_py311",
   "language": "python",
   "name": "trec_py311"
  },
  "language_info": {
   "codemirror_mode": {
    "name": "ipython",
    "version": 3
   },
   "file_extension": ".py",
   "mimetype": "text/x-python",
   "name": "python",
   "nbconvert_exporter": "python",
   "pygments_lexer": "ipython3",
   "version": "3.11.4"
  }
 },
 "nbformat": 4,
 "nbformat_minor": 5
}
